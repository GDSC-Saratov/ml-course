{
 "cells": [
  {
   "cell_type": "markdown",
   "metadata": {},
   "source": [
    "### Основные преимущества списков NumPy перед стандартными списками"
   ]
  },
  {
   "cell_type": "markdown",
   "metadata": {},
   "source": [
    "Собственно, векторное применение функций - самый очевидный бонус numpy. Он избавляет от необходимости оборачивания в map или в цикл какой-либо функции.\n",
    "\n",
    "Важна также функциональность: вы получаете много встроенных функций с NumPy, FFT, свертками, быстрым поиском, базовой статистикой, линейной алгеброй, гистограммами и т.д."
   ]
  },
  {
   "cell_type": "code",
   "execution_count": null,
   "metadata": {},
   "outputs": [],
   "source": [
    "import math\n",
    "import numpy as np"
   ]
  },
  {
   "cell_type": "code",
   "execution_count": null,
   "metadata": {},
   "outputs": [],
   "source": [
    "a = [1, 2, 3, 4, 5]\n",
    "a = list(map(math.sqrt, a))\n",
    "a\n",
    "\n",
    "# здесь можно также указывать точность\n",
    "# (количество чисел после запятой)\n",
    "# np.set_printoptions(precision=4)\n",
    "a = [1, 2, 3, 4, 5]\n",
    "a = np.sqrt(a)\n",
    "a"
   ]
  },
  {
   "cell_type": "markdown",
   "metadata": {},
   "source": [
    "Также часто упоминают хорошую скорость выполнения операций по сравнению операции с теми же оригинальными списками"
   ]
  },
  {
   "cell_type": "code",
   "execution_count": 4,
   "metadata": {},
   "outputs": [
    {
     "name": "stdout",
     "output_type": "stream",
     "text": [
      "Python array: 10.291004419326782\n",
      "Numpy array: 0.22296142578125\n"
     ]
    }
   ],
   "source": [
    "import time\n",
    "\n",
    "a = [i for i in range(100000000)]\n",
    "\n",
    "b = np.array(a, int)\n",
    "\n",
    "t = time.time()\n",
    "a = [a[i] + 1 for i in range(len(a))]\n",
    "print(f'Python array: {time.time() - t}')\n",
    "\n",
    "t = time.time()\n",
    "b = b + 1\n",
    "print(f'Numpy array: {time.time() - t}')"
   ]
  },
  {
   "cell_type": "markdown",
   "metadata": {},
   "source": [
    "## Переходим к описаниям функций NumPy"
   ]
  },
  {
   "cell_type": "markdown",
   "metadata": {},
   "source": [
    "### 3. Создание массива и матриц NumPy"
   ]
  },
  {
   "cell_type": "markdown",
   "metadata": {},
   "source": [
    "#### Создание массива из списка"
   ]
  },
  {
   "cell_type": "code",
   "execution_count": null,
   "metadata": {},
   "outputs": [],
   "source": [
    "some_array = np.array([1, 4, 5, 8], float)\n",
    "print(type(some_array))\n",
    "\n",
    "# созданный массив, кстати, позволяет работать с собой\n",
    "# также, как и обычный список\n",
    "print(some_array[:2])\n",
    "print(some_array[3])\n",
    "some_array[2] = 69\n",
    "print(some_array)"
   ]
  },
  {
   "cell_type": "code",
   "execution_count": null,
   "metadata": {},
   "outputs": [],
   "source": [
    "# массивы так то могут быть и не одномерными (удивительно)\n",
    "big_array = np.array([[1, 2, 3], [4, 5, 6]])\n",
    "print(big_array)\n",
    "# в отличии от списков можно использовать запятые в скобках\n",
    "print(big_array[0, 0] == big_array[0][0])"
   ]
  },
  {
   "cell_type": "markdown",
   "metadata": {},
   "source": [
    "#### np.arange()"
   ]
  },
  {
   "cell_type": "code",
   "execution_count": null,
   "metadata": {},
   "outputs": [],
   "source": [
    "kek = np.arange(3)\n",
    "# можно явно указывать тип значений\n",
    "kek = np.arange(3.0)\n",
    "kek = np.arange(0, 5)\n",
    "# от 0 до 5 с шагом 2\n",
    "kek = np.arange(0, 5, 2)\n",
    "print(kek)"
   ]
  },
  {
   "cell_type": "markdown",
   "metadata": {},
   "source": [
    "#### np.zeros() и np.ones()"
   ]
  },
  {
   "cell_type": "code",
   "execution_count": null,
   "metadata": {},
   "outputs": [],
   "source": [
    "kavo = np.zeros(5)\n",
    "# явное указание типа здесь тоже есть\n",
    "# (вообще оно почти везде есть, можно к этому больше не возвращаться)\n",
    "kavo = np.zeros((5), dtype=int)\n",
    "# можно указывать размерность\n",
    "kavo = np.zeros((5, 2))\n",
    "\n",
    "# (штука, в очень многом схожая с np.zeros())\n",
    "chevo = np.ones(5)\n",
    "chevo = np.ones((5, 2))"
   ]
  },
  {
   "cell_type": "markdown",
   "metadata": {},
   "source": [
    "#### np.linspace()"
   ]
  },
  {
   "cell_type": "code",
   "execution_count": null,
   "metadata": {},
   "outputs": [],
   "source": [
    "# (штука очень похожая на arange, только arange\n",
    "# создает с указанием шага, а тут указывается\n",
    "# кол-во элементов)\n",
    "np.linspace(2.0, 3.0, num=22)\n",
    "\n",
    "# можно указать, включать ли правую границу в\n",
    "# содержимое массива\n",
    "np.linspace(2.0, 3.0, num=5, endpoint=False)\n",
    "\n",
    "# можно даже возвращать не просто список, а кортеж\n",
    "# из списка и вычисленного шага между элементами\n",
    "np.linspace(2.0, 3.0, num=8, retstep=True)"
   ]
  },
  {
   "cell_type": "markdown",
   "metadata": {},
   "source": [
    "#### np.identity() и np.eye()"
   ]
  },
  {
   "cell_type": "code",
   "execution_count": null,
   "metadata": {},
   "outputs": [],
   "source": [
    "# просто единичная матрица\n",
    "np.identity(5)\n",
    "\n",
    "# возвращает двумерный массив с единицами на указанной\n",
    "# диагонали (во всех остальных местах ставятся нули)\n",
    "np.eye(2, dtype=int)\n",
    "np.eye(4, dtype=int)\n",
    "# второй аргумент указывает на размерность\n",
    "np.eye(4, 3, 1, dtype=int)\n",
    "# иногда удобнее явно задавать номер диагонали\n",
    "np.eye(3, k=1)"
   ]
  },
  {
   "cell_type": "markdown",
   "metadata": {},
   "source": [
    "### 4. Мелкие вспомогательные функции"
   ]
  },
  {
   "cell_type": "markdown",
   "metadata": {},
   "source": [
    "#### np.shape"
   ]
  },
  {
   "cell_type": "code",
   "execution_count": null,
   "metadata": {},
   "outputs": [],
   "source": [
    "# np.shape позволяет\n",
    "# получить размерность некоторого массива\n",
    "np.shape(np.eye(3))\n",
    "np.shape(some_array)\n",
    "np.shape(big_array)"
   ]
  },
  {
   "cell_type": "markdown",
   "metadata": {},
   "source": [
    "#### np.dtype"
   ]
  },
  {
   "cell_type": "code",
   "execution_count": null,
   "metadata": {},
   "outputs": [],
   "source": [
    "# np.dtype указывает\n",
    "# на тип содержимого списка\n",
    "big_array.dtype\n",
    "print((np.arange(3.0)).dtype)\n",
    "print(np.array([\"pepega\", \"nice\"]).dtype)\n",
    "print(np.array([{\"a\": 1}, {\"b\": 2}]).dtype)"
   ]
  },
  {
   "cell_type": "markdown",
   "metadata": {},
   "source": [
    "#### np.copy()"
   ]
  },
  {
   "cell_type": "code",
   "execution_count": null,
   "metadata": {},
   "outputs": [],
   "source": [
    "# np.copy() копирует список\n",
    "# с содержимым в другую ячейку в памяти\n",
    "a = np.array([1, 'm', [2, 3, 4]], dtype=object)\n",
    "b = np.copy(a)\n",
    "a[1] = 1\n",
    "print(a)\n",
    "print(b)"
   ]
  },
  {
   "cell_type": "markdown",
   "metadata": {},
   "source": [
    "#### np.flatten()"
   ]
  },
  {
   "cell_type": "code",
   "execution_count": null,
   "metadata": {},
   "outputs": [],
   "source": [
    "# делает одномерный массив из многомерного\n",
    "a = np.array([[1,2], [3,4]])\n",
    "print(a.flatten())\n",
    "a = np.array([[1,2], [[3, 3.5, 3.6], 4]])\n",
    "print(a.flatten())"
   ]
  },
  {
   "cell_type": "markdown",
   "metadata": {},
   "source": [
    "#### np.concatenate()"
   ]
  },
  {
   "cell_type": "code",
   "execution_count": null,
   "metadata": {},
   "outputs": [],
   "source": [
    "# np.concatenate()\n",
    "# осуществляет конкатенацию списков\n",
    "a = np.array([[1,2], [3,4]])\n",
    "a = np.array([[1, 2], [3, 4]])\n",
    "b = np.array([[5, 6]])\n",
    "print(np.concatenate((a, b), axis=0))\n",
    "print(np.concatenate((a, b), axis=None))"
   ]
  },
  {
   "cell_type": "markdown",
   "metadata": {},
   "source": [
    "### 5. Арифметические и логические операции в NumPy"
   ]
  },
  {
   "cell_type": "code",
   "execution_count": null,
   "metadata": {},
   "outputs": [],
   "source": [
    "# база\n",
    "a = np.array([1,2,3], float)\n",
    "b = np.array([5,2,6], float)\n",
    "print(a + b)\n",
    "print(a - b)\n",
    "\n",
    "# умножение даже двумерных матриц с помощью оператора \"*\"\n",
    "# происходит тоже ПОЭЛЕМЕНТНО\n",
    "print(a * b)\n",
    "print(a / b)\n",
    "print(a % b)\n",
    "print(a ** b)\n",
    "\n",
    "# ещё база\n",
    "a = np.array([1, 3, 0], float)\n",
    "b = np.array([0, 3, 2], float)\n",
    "print(a > b)\n",
    "print(a == b)\n",
    "print(a <= b)\n",
    "print(c = a > b)\n",
    "# можем сравнивать с одиночным значением\n",
    "a = np.array([1, 3, 0], float)\n",
    "print(a > 2)"
   ]
  },
  {
   "cell_type": "markdown",
   "metadata": {},
   "source": [
    "#### np.all() и np.any()"
   ]
  },
  {
   "cell_type": "code",
   "execution_count": null,
   "metadata": {},
   "outputs": [],
   "source": [
    "# возвращает true, если все значения списка ненулевые\n",
    "# (по сути это логическое И)\n",
    "np.all([1, 1, 1])\n",
    "np.all([0, 1, 1])\n",
    "# ключевое слово - НЕНУЛЕВЫЕ\n",
    "np.all([-1, 4, 5])\n",
    "\n",
    "# можно указывать, возвращать ли значение для всех списков,\n",
    "# или значения для каждого конкретного\n",
    "np.all([[True,False],[True,True]])\n",
    "np.all([[True,False],[True,True]], axis=0)\n",
    "\n",
    "# np.any()\n",
    "# возвращает true, если хотя бы одно значение списка ненулевое\n",
    "# (по сути это логическое ИЛИ)\n",
    "np.any([0, 0, 0])\n",
    "np.any([0, 0, 1])"
   ]
  },
  {
   "cell_type": "markdown",
   "metadata": {},
   "source": [
    "#### np.sqrt(). np.exp(), np.log()"
   ]
  },
  {
   "cell_type": "code",
   "execution_count": null,
   "metadata": {},
   "outputs": [],
   "source": [
    "# векторизованные до боли знакомые функции\n",
    "np.sqrt([1, 4, 9])\n",
    "np.exp([1, 4, 9])\n",
    "np.log([1, 4, 9])\n",
    "\n",
    "# можно работать и с комплексными числами\n",
    "# но нужно ли...\n",
    "np.sqrt([4, -1, -3+4J])\n",
    "np.log([4, -1, -3+4J])"
   ]
  },
  {
   "cell_type": "markdown",
   "metadata": {},
   "source": [
    "#### np.sum() и np.prod()"
   ]
  },
  {
   "cell_type": "code",
   "execution_count": null,
   "metadata": {},
   "outputs": [],
   "source": [
    "# сумма значений списка по конкретной оси\n",
    "print(np.sum([0.5, 1.5]))\n",
    "print(np.sum([0.5, 0.7, 0.2, 1.5], dtype=np.int32))\n",
    "print(np.sum([[0, 1], [0, 5]]))\n",
    "print(np.sum([[0, 1], [1, 5]], axis=0))\n",
    "print(np.sum([[0, 1], [1, 5]], axis=1))\n",
    "\n",
    "# произведение значений списка по конкретной оси\n",
    "print(np.prod([0.5, 1.5]))\n",
    "print(np.prod([0.5, 0.7, 0.2, 1.5], dtype=np.int32))\n",
    "print(np.prod([[1, 2], [3, 4]]))\n",
    "print(np.prod([[1, 2], [3, 4]], axis=0))\n",
    "print(np.prod([[1, 2], [3, 4]], axis=1))"
   ]
  },
  {
   "cell_type": "markdown",
   "metadata": {},
   "source": [
    "#### np.dot() и np.matmul()"
   ]
  },
  {
   "cell_type": "code",
   "execution_count": null,
   "metadata": {},
   "outputs": [],
   "source": [
    "# с помощью np.dot()\n",
    "# можно умножать массивы между собой\n",
    "# (представляет собой поэлементное\n",
    "#  умножение элементов списков)\n",
    "print(np.dot(3, 4))\n",
    "print(np.dot([2j, 3j], [2j, 3j]))\n",
    "a = [[1, 0],\n",
    "     [1, 1]]\n",
    "b = [[4, 1],\n",
    "     [2, 2]]\n",
    "print(np.dot(a, b))\n",
    "\n",
    "\n",
    "# np.matmul()\n",
    "# (по сути является обычным\n",
    "#  матричным произведением)\n",
    "a = [[1, 0],\n",
    "     [1, 1]]\n",
    "b = [[4, 1],\n",
    "     [2, 2]]\n",
    "print(np.matmul(a, b))\n",
    "\n",
    "a = np.array([[1, 1],\n",
    "              [1, 1]])\n",
    "b = np.array([1, 2])\n",
    "print(np.matmul(a, b))"
   ]
  },
  {
   "cell_type": "markdown",
   "metadata": {},
   "source": [
    "### 6. Константы и статистические приколы"
   ]
  },
  {
   "cell_type": "code",
   "execution_count": null,
   "metadata": {},
   "outputs": [],
   "source": [
    "# ничего интересно, просто держим в курсе\n",
    "print(np.pi)\n",
    "print(np.e)"
   ]
  },
  {
   "cell_type": "markdown",
   "metadata": {},
   "source": [
    "#### np.min() и np.max()"
   ]
  },
  {
   "cell_type": "code",
   "execution_count": null,
   "metadata": {},
   "outputs": [],
   "source": [
    "print(np.min(np.array([7, 8, 4, 5, 2])))\n",
    "print(np.min([[1, 2], [2], [3, 4, 3]]))\n",
    "print(np.max([[1, 2], [2], [3, 4, 3]]))"
   ]
  },
  {
   "cell_type": "markdown",
   "metadata": {},
   "source": [
    "#### Статистика (медиана, среднее значение, дисперсия, стандартное отклонение)"
   ]
  },
  {
   "cell_type": "code",
   "execution_count": null,
   "metadata": {},
   "outputs": [],
   "source": [
    "a = np.array([[10, 7, 4], [3, 2, 1]])\n",
    "a\n",
    "\n",
    "print(np.median(a))\n",
    "print(np.median(a, axis=0))\n",
    "print(np.median(a, axis=1))\n",
    "\n",
    "print(np.mean(a))\n",
    "print(np.mean(a, axis=0))\n",
    "print(np.mean(a, axis=1))\n",
    "\n",
    "print(np.var(a))\n",
    "print(np.var(a, axis=0))\n",
    "print(np.var(a, axis=1))\n",
    "\n",
    "print(np.std(a))\n",
    "print(np.std(a, axis=0))\n",
    "print(np.std(a, axis=1))"
   ]
  },
  {
   "cell_type": "markdown",
   "metadata": {},
   "source": [
    "### 7. Ещё полезные функции"
   ]
  },
  {
   "cell_type": "markdown",
   "metadata": {},
   "source": [
    "#### np.unique()"
   ]
  },
  {
   "cell_type": "code",
   "execution_count": 82,
   "metadata": {},
   "outputs": [
    {
     "data": {
      "text/plain": [
       "array([False, False,  True, False])"
      ]
     },
     "execution_count": 82,
     "metadata": {},
     "output_type": "execute_result"
    }
   ],
   "source": [
    "# возвращает уникальные значения из списка\n",
    "print(np.unique([1, 1, 2, 2, 3, 3]))\n",
    "# работает и для многомерных списков\n",
    "a = np.array([[1, 1], [2, 3]])\n",
    "print(np.unique(a))"
   ]
  },
  {
   "cell_type": "markdown",
   "metadata": {},
   "source": [
    "#### np.diagonal()"
   ]
  },
  {
   "cell_type": "code",
   "execution_count": null,
   "metadata": {},
   "outputs": [],
   "source": [
    "# получение значение на конкретной\n",
    "# диагонали матрицы\n",
    "a = np.arange(16).reshape(4,4)\n",
    "print(a)\n",
    "print(a.diagonal())\n",
    "print(a.diagonal(1))"
   ]
  },
  {
   "cell_type": "markdown",
   "metadata": {},
   "source": [
    "#### np.nonzero()"
   ]
  },
  {
   "cell_type": "code",
   "execution_count": null,
   "metadata": {},
   "outputs": [],
   "source": [
    "# возвращает индексы ненулевых элементов списка\n",
    "x = np.array([1, 0, 0, 0, 12, 0, -1])\n",
    "print(x)\n",
    "print(np.nonzero(x))\n",
    "\n",
    "# это работает и с многомерными массивами\n",
    "x = np.array([[3, 0, 0], [0, 4, 0], [5, 6, 0]])\n",
    "print(x)\n",
    "print(np.nonzero(x))\n",
    "\n",
    "# таким хитрым образом можно получить\n",
    "# сами ненулевые элементы в списке\n",
    "print(x[np.nonzero(x)])"
   ]
  },
  {
   "cell_type": "markdown",
   "metadata": {},
   "source": [
    "#### np.isnan()"
   ]
  },
  {
   "cell_type": "code",
   "execution_count": null,
   "metadata": {},
   "outputs": [],
   "source": [
    "# возвращает True, если значение None, Null, NaN\n",
    "print(np.isnan([1, 2, np.nan, 12]))"
   ]
  },
  {
   "cell_type": "markdown",
   "metadata": {},
   "source": [
    "### 8. Случайные случайности"
   ]
  },
  {
   "cell_type": "code",
   "execution_count": null,
   "metadata": {},
   "outputs": [],
   "source": [
    "print(np.random.rand(4))\n",
    "print(np.random.rand(1, 2))\n",
    "\n",
    "print(np.random.randint(3))\n",
    "print(np.random.randint(low=3, high=5, size=3))\n",
    "\n",
    "# возвращает значение\n",
    "# стандартного нормального распределения\n",
    "print(np.random.randn(5, 2))\n",
    "\n",
    "\n",
    "# перемешивает значения списка\n",
    "a = [1, 2, 3, 4, 5]\n",
    "np.random.shuffle(a)\n",
    "print(a)"
   ]
  }
 ],
 "metadata": {
  "interpreter": {
   "hash": "bb399e1a834aa17b35df3c7b12c8f19baf7d93a1973604970edfee6e51c1813f"
  },
  "kernelspec": {
   "display_name": "Python 3.9.10 64-bit (windows store)",
   "language": "python",
   "name": "python3"
  },
  "language_info": {
   "codemirror_mode": {
    "name": "ipython",
    "version": 3
   },
   "file_extension": ".py",
   "mimetype": "text/x-python",
   "name": "python",
   "nbconvert_exporter": "python",
   "pygments_lexer": "ipython3",
   "version": "3.9.10"
  },
  "orig_nbformat": 4
 },
 "nbformat": 4,
 "nbformat_minor": 2
}
