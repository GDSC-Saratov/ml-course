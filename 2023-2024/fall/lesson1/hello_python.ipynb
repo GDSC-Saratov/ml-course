{
 "cells": [
  {
   "cell_type": "markdown",
   "metadata": {},
   "source": [
    "# Содержание:\n",
    "* [Общие моменты](#general)\n",
    "    1. [Установка Python](#install)\n",
    "    2. [Работа с виртуальными окружениями](#virtualenv)\n",
    "* [Основная часть](#main)\n",
    "    1. [Динамическая типизация](#dyn)\n",
    "    2. [Отсутствие статического анализа кода](#static)\n",
    "    3. [Немного о рефлексии](#reflex)\n",
    "    4. [Изменяемые объекты](#mut)\n",
    "        * Списки и операции над ними\n",
    "        * Генераторы вообще\n",
    "    5. [Ещё немного интересного с изменяемыми объектами](#mut2)\n",
    "    6. [Функция как объект](#func)\n",
    "        * Коварность mutable-аргументов\n",
    "        * Вложенные функции и каррирование\n",
    "        * Декораторы\n",
    "        * Лямбда-функции и приложения\n",
    "    7. [NumPy](#numpy)\n",
    "        * Статистика и другое\n",
    "        * Производительность\n",
    "        * Векторизация\n",
    "        * Экономия памяти\n",
    "        * Удобство\n",
    "        * Практическое задание #1\n",
    "        * Практическое задание #2\n",
    "        * Практическое задание #3\n"
   ]
  },
  {
   "cell_type": "markdown",
   "metadata": {},
   "source": [
    "## Общие моменты <a class=\"anchor\" id=\"general\"></a>"
   ]
  },
  {
   "cell_type": "markdown",
   "metadata": {},
   "source": [
    "### Установка Python <a class=\"anchor\" id=\"install\"></a>"
   ]
  },
  {
   "cell_type": "markdown",
   "metadata": {},
   "source": [
    "Установить Python для Windows [можно тут](https://www.python.org/downloads/), следуя стандартным инструкциям установки, не забыв добавить исполняемый файл Python в `PATH`.\n",
    "\n",
    "Для UNIX-based операционных систем установку можно осуществить с помощью пакетного менеджера (будь то `apt`, `apk`, `pacman` или `brew`).\n",
    "\n",
    "С более полным гайдом по установке можно ознакомиться [тут](https://dsc.sgu.ru/machine-learning/setup/)."
   ]
  },
  {
   "cell_type": "markdown",
   "metadata": {},
   "source": [
    "### Работа с виртуальными окружениями <a class=\"anchor\" id=\"virtualenv\"></a>"
   ]
  },
  {
   "cell_type": "markdown",
   "metadata": {},
   "source": [
    "Python, как и любой другой язык, позволяет использовать пользовательские\n",
    "библиотеки с помощью собственного пакетного менеджера под названием `pip`.\n",
    "\n",
    "Но при одновременной работе с несколькими проектами установка пакетов может\n",
    "привести к конфликту установленных библиотек разных версий, поэтому на практике\n",
    "применяют виртуальные окружения.\n",
    "\n",
    "Создать виртуальное окружение в текущей директории можно с помощью команды \n",
    "\n",
    "`python3 -m venv .venv`. \n",
    "\n",
    "Здесь `venv` — имя модуля, `.venv` — директория окружения. Логично создавать окружение в корневой директории проекта.\n",
    "\n",
    "При работе в [Jupyter Notebook](https://docs.jupyter.org/en/latest/running.html) (не [Google Colab](https://colab.google/)) необходимо также убедиться в том, что вы используете именно это окружение. В Visual Studio Code это отображается в верхней правой части экрана — там указывается папка с окружением и соответствующая версия Python.\n",
    "\n",
    "В рамках Клуба мы рекомендуем пользоваться Google Colab в случае, если он кажется наиболее удобным, либо у вас нет собственного ноутбука, поскольку Colab — веб-сервис и доступен с любого устройства.\n",
    "\n",
    "Здесь стоит оговориться, что для Windows нам не известно какого-то очень удобного способа создавать эти окружения — можно использовать либо командную строку, либо специфичные средства создания таких окружений в текстовом редакторе, если таковые имеются.\n",
    "\n",
    "Можно также использовать любые надстройки над `venv`-ом — [Poetry](https://python-poetry.org/), [Conda](https://docs.conda.io/en/latest/) или, например, относительно свежий проект [Rye](https://github.com/mitsuhiko/rye)."
   ]
  },
  {
   "cell_type": "markdown",
   "metadata": {},
   "source": [
    "## Основная часть <a class=\"anchor\" id=\"main\"></a>"
   ]
  },
  {
   "cell_type": "markdown",
   "metadata": {},
   "source": [
    "Далее будут рассмотрены основные особенности языка, которые принципиально важны в практической деятельности."
   ]
  },
  {
   "cell_type": "markdown",
   "metadata": {},
   "source": [
    "### Динамическая типизация (dynamic typing) <a class=\"anchor\" id=\"dyn\"></a>"
   ]
  },
  {
   "cell_type": "markdown",
   "metadata": {},
   "source": [
    "Хорошо известно, что Python — динамических язык. В связи\n",
    "с этим одна и та же переменная может принимать значения различных типов.\n",
    "\n",
    "Поэтому, любое из следующий выражений будет вполне справедливо"
   ]
  },
  {
   "cell_type": "code",
   "execution_count": null,
   "metadata": {},
   "outputs": [],
   "source": [
    "x = 3\n",
    "x = '3'\n",
    "x = ['3']\n",
    "x = [['3']]"
   ]
  },
  {
   "cell_type": "markdown",
   "metadata": {},
   "source": [
    "Возможность одной и той же переменной присваивать значения различных типов является одновременно и плюсом, и минусом. \n",
    "\n",
    "С одной стороны, это позволяет меньше задумываться о типах значений. С другой стороны, это заставляет больше задумываться о них в последствии."
   ]
  },
  {
   "cell_type": "code",
   "execution_count": null,
   "metadata": {},
   "outputs": [],
   "source": [
    "def f(x: int, y: str) -> dict:\n",
    "    return x + y\n",
    "\n",
    "\n",
    "print(f(3, 5))"
   ]
  },
  {
   "cell_type": "markdown",
   "metadata": {},
   "source": [
    "Существует возможность добавлять аннотации типов, но эти аннотации имеют смысл\n",
    "лишь для программиста, но не интерпретатора.\n",
    "\n",
    "Выражение выше при заданных аргументах будет выполнено корректно, хотя `y` имеет при себе аннотацию `str`, а сам метод в теории должен возвращать `dict`."
   ]
  },
  {
   "cell_type": "markdown",
   "metadata": {},
   "source": [
    "### Отсутствие статического анализа кода (static checking) <a class=\"anchor\" id=\"static\"></a>"
   ]
  },
  {
   "cell_type": "markdown",
   "metadata": {},
   "source": [
    "Ещё одной важной чертой Python является отсутствие полноценной системы статического анализа кода.\n",
    "\n",
    "Иными словами — ошибки обнаруживаются не на этапе запуска программы, а во время её исполнения.\n",
    "\n",
    "Таким образом, программа может не завершиться успешно спустя долгое время и \"обрушить\" значительную часть предшествующей работы программы."
   ]
  },
  {
   "cell_type": "code",
   "execution_count": null,
   "metadata": {},
   "outputs": [],
   "source": [
    "df = [i for i in range(int(1e6))]\n",
    "\n",
    "SOME_RESULT = \"very_meaningful_result\"\n",
    "SOME_TASK = \"very long python is learning how to be a python\"\n",
    "\n",
    "\n",
    "def job(some_arg):\n",
    "    \n",
    "    SOME_TASK(some_arg)\n",
    "    # ...VERY VERY VERY LONG TIME PASSED\n",
    "    SOME_RESULT.to_csv(\"output.csv\")  # where result is numpy array, \n",
    "                                      # not dataframe as expected\n",
    "\n",
    "job(df)\n"
   ]
  },
  {
   "cell_type": "markdown",
   "metadata": {},
   "source": [
    "### Немного о рефлексии <a class=\"anchor\" id=\"reflex\"></a>"
   ]
  },
  {
   "cell_type": "markdown",
   "metadata": {},
   "source": [
    "Механизм рефлексии можно понимать как способность программы \"обращаться\" к самой себе в ходе исполнения — просматривать список методов или полей\n",
    "объекта, дополнять и изменять классы и так далее.\n",
    "\n",
    "В Python много полезных применений этого механизма, но среди них есть особенно полезные."
   ]
  },
  {
   "cell_type": "markdown",
   "metadata": {},
   "source": [
    "Например, функция `dir` позволяет отобразить список существующих методов\n",
    "заданного класса."
   ]
  },
  {
   "cell_type": "code",
   "execution_count": null,
   "metadata": {},
   "outputs": [],
   "source": [
    "dir(list)"
   ]
  },
  {
   "cell_type": "markdown",
   "metadata": {},
   "source": [
    "Если отсеять \"магические\" методы, то зачем вообще открывать документацию в\n",
    "браузере? :)"
   ]
  },
  {
   "cell_type": "code",
   "execution_count": null,
   "metadata": {},
   "outputs": [],
   "source": [
    "def vdir(obj):\n",
    "    return [x for x in dir(obj) if not x.startswith('__')]\n",
    "\n",
    "methods = vdir(list)\n",
    "\n",
    "for method in methods:\n",
    "    help(getattr(list, method))"
   ]
  },
  {
   "cell_type": "markdown",
   "metadata": {},
   "source": [
    "Функция `help` может отобразить документацию для заданного метода. Но так как\n",
    "результат работы `dir` — названия методов, а не сами методы, то необходимо\n",
    "предварительно получить сам метод с помощью функции `getattr`."
   ]
  },
  {
   "cell_type": "markdown",
   "metadata": {},
   "source": [
    "### Изменяемые объекты (mutable objects) <a class=\"anchor\" id=\"mut\"></a>"
   ]
  },
  {
   "cell_type": "markdown",
   "metadata": {},
   "source": [
    "Проще всего мыслить так. Изменяемые объекты это:\n",
    "1. Списки\n",
    "2. Словари\n",
    "3. Множества\n",
    "4. Пользовательские классы\n",
    "\n",
    "Все остальные классы можно причислить к неизменяемым."
   ]
  },
  {
   "cell_type": "code",
   "execution_count": null,
   "metadata": {},
   "outputs": [],
   "source": [
    "# Mutable\n",
    "d = {\"a\": 1, \"b\": 2, \"c\": 3, \"d\": 4}\n",
    "\n",
    "# Mutable\n",
    "lst = d.values()\n",
    "\n",
    "# Mutable\n",
    "s = set(lst)\n",
    "\n",
    "# Will it work?\n",
    "# c = {[1, 2, 3]: \"[1, 2, 3]\"}"
   ]
  },
  {
   "cell_type": "markdown",
   "metadata": {},
   "source": [
    "#### Списки и операции над ними"
   ]
  },
  {
   "cell_type": "markdown",
   "metadata": {},
   "source": [
    "Срезы списков (slices)"
   ]
  },
  {
   "cell_type": "code",
   "execution_count": null,
   "metadata": {},
   "outputs": [],
   "source": [
    "x = [1, 2, 3, 4, 5]\n",
    "\n",
    "print(x[1:3])\n",
    "print(x[:-1]) # or x[:len(x) - 1]\n",
    "print(x[0::2])"
   ]
  },
  {
   "cell_type": "markdown",
   "metadata": {},
   "source": [
    "Добавление элемента/списка"
   ]
  },
  {
   "cell_type": "markdown",
   "metadata": {},
   "source": [
    "Операция `append` с точностью до названия присутствует практически в каждом\n",
    "языке программирования, а вот `extend` встречается не везде. В целом, смысл\n",
    "функций должен быть вполне потянен исходя из вывода интерпретатора.  "
   ]
  },
  {
   "cell_type": "code",
   "execution_count": null,
   "metadata": {},
   "outputs": [],
   "source": [
    "a = [1, 2, 3, 4, 5]\n",
    "b = [1, 2, 3]\n",
    "\n",
    "print(a.append(b))\n",
    "print(a)\n",
    "print(a.extend(b))\n",
    "print(a)"
   ]
  },
  {
   "cell_type": "markdown",
   "metadata": {},
   "source": [
    "Генераторы списков (list comprehension)"
   ]
  },
  {
   "cell_type": "markdown",
   "metadata": {},
   "source": [
    "Генераторы списков — специальная конструкция, которая позволяет компактно\n",
    "создавать списки. Ключевым оператором здесь выступает `in` — который требует\n",
    "генератор и возвращает... список? Или генератор? Давайте посмотрим."
   ]
  },
  {
   "cell_type": "code",
   "execution_count": null,
   "metadata": {},
   "outputs": [],
   "source": [
    "print([x * x for x in range(10)])"
   ]
  },
  {
   "cell_type": "markdown",
   "metadata": {},
   "source": [
    "А что если опустить квадратные скобки?"
   ]
  },
  {
   "cell_type": "code",
   "execution_count": null,
   "metadata": {},
   "outputs": [],
   "source": [
    "print(x * x for x in range(10))"
   ]
  },
  {
   "cell_type": "markdown",
   "metadata": {},
   "source": [
    "Давайте сохраним этот объект"
   ]
  },
  {
   "cell_type": "code",
   "execution_count": null,
   "metadata": {},
   "outputs": [],
   "source": [
    "gen = (x * x for x in range(10))"
   ]
  },
  {
   "cell_type": "markdown",
   "metadata": {},
   "source": [
    "И преобразуем в его список"
   ]
  },
  {
   "cell_type": "code",
   "execution_count": null,
   "metadata": {},
   "outputs": [],
   "source": [
    "list(gen)"
   ]
  },
  {
   "cell_type": "markdown",
   "metadata": {},
   "source": [
    "#### Генераторы вообще"
   ]
  },
  {
   "cell_type": "markdown",
   "metadata": {},
   "source": [
    "Генераторы, на самом деле, могут быть сколь угодно сложными. Если синтаксически\n",
    "Python не позволяет реализовать нужную функциональность, то можно описать поведение\n",
    "генератора в виде функции."
   ]
  },
  {
   "cell_type": "code",
   "execution_count": null,
   "metadata": {},
   "outputs": [],
   "source": [
    "def traverse(obj):\n",
    "    if type(obj) != list:\n",
    "        yield obj\n",
    "    else:\n",
    "        for subobj in obj:\n",
    "            for element in traverse(subobj):\n",
    "                yield element"
   ]
  },
  {
   "cell_type": "markdown",
   "metadata": {},
   "source": [
    "Ключевое слово `yield` похоже на `return` — оно тоже возвращает значение, но\n",
    "отличие в том\n",
    "Его наличие гарантирует, что результатом вызова функции будет генератор. \n",
    "\n",
    "Кроме того,  `yield` приостанавливает выполнение функции до тех пор, пока\n",
    "от генератора не понадобится следующее значение генератора."
   ]
  },
  {
   "cell_type": "markdown",
   "metadata": {},
   "source": [
    "Тогда `t` — генератор, и мы все ещё можем сгенерировать список на его основе:"
   ]
  },
  {
   "cell_type": "code",
   "execution_count": null,
   "metadata": {},
   "outputs": [],
   "source": [
    "t = traverse([[1, 2, 3], 2, [[3]]])\n",
    "list(t)"
   ]
  },
  {
   "cell_type": "markdown",
   "metadata": {},
   "source": [
    "Можно попробовать взять четыре элемента генератора, а не все. \n",
    "\n",
    "Для этого можно воспользоваться методом `next`, который возвращает следующий\n",
    "элемент итератора."
   ]
  },
  {
   "cell_type": "code",
   "execution_count": null,
   "metadata": {},
   "outputs": [],
   "source": [
    "[next(t) for _ in range(4)]"
   ]
  },
  {
   "cell_type": "markdown",
   "metadata": {},
   "source": [
    "Ничем хорошим это не закончится, поскольку генератор — вещь, имеющая состояние\n",
    "и оно не обнуляется между операциями. \n",
    "\n",
    "\"Обнулить\" его можно, например, пересоздав итератор."
   ]
  },
  {
   "cell_type": "code",
   "execution_count": null,
   "metadata": {},
   "outputs": [],
   "source": [
    "t = traverse([[1, 2, 3], 2, [[3]]])\n",
    "[next(t) for _ in range(4)]"
   ]
  },
  {
   "cell_type": "markdown",
   "metadata": {},
   "source": [
    "Генераторы dict-ов (dict comprehension)"
   ]
  },
  {
   "cell_type": "markdown",
   "metadata": {},
   "source": [
    "То же выражение генератора можно обернуть и в привычные нам фигурные скобки, \n",
    "и мы получим словарь."
   ]
  },
  {
   "cell_type": "code",
   "execution_count": null,
   "metadata": {},
   "outputs": [],
   "source": [
    "{x + y: x * y for x in [1, 2, 3] for y in [5, 7]}"
   ]
  },
  {
   "cell_type": "markdown",
   "metadata": {},
   "source": [
    "### Ещё немного интересного с изменяемыми объектами <a class=\"anchor\" id=\"mut2\"></a>"
   ]
  },
  {
   "cell_type": "markdown",
   "metadata": {},
   "source": [
    "Хотим скопировать список. Так можно?"
   ]
  },
  {
   "cell_type": "code",
   "execution_count": null,
   "metadata": {},
   "outputs": [],
   "source": [
    "x = [[1, 2, 3], [4, 5, 6], [7, 8, 9]]\n",
    "\n",
    "y = x\n",
    "\n",
    "y[0] = [2, 3, 4]\n",
    "\n",
    "x"
   ]
  },
  {
   "cell_type": "markdown",
   "metadata": {},
   "source": [
    "А так?"
   ]
  },
  {
   "cell_type": "code",
   "execution_count": null,
   "metadata": {},
   "outputs": [],
   "source": [
    "y = list(x)\n",
    "\n",
    "y[0] = [1, 2, 3]\n",
    "#y[0][1] = [2, 3, 5]\n",
    "\n",
    "x"
   ]
  },
  {
   "cell_type": "markdown",
   "metadata": {},
   "source": [
    "Может, что-то такое?"
   ]
  },
  {
   "cell_type": "code",
   "execution_count": null,
   "metadata": {},
   "outputs": [],
   "source": [
    "y = x.copy()\n",
    "\n",
    "y[0][1] = [2, 3, 6]\n",
    "\n",
    "x"
   ]
  },
  {
   "cell_type": "markdown",
   "metadata": {},
   "source": [
    "Ну или такое...?"
   ]
  },
  {
   "cell_type": "code",
   "execution_count": null,
   "metadata": {},
   "outputs": [],
   "source": [
    "from copy import deepcopy\n",
    "\n",
    "y = deepcopy(x)\n",
    "\n",
    "y[0][1] = 7\n",
    "\n",
    "x"
   ]
  },
  {
   "cell_type": "markdown",
   "metadata": {},
   "source": [
    "### Функция как объект (functions) <a class=\"anchor\" id=\"func\"></a>"
   ]
  },
  {
   "cell_type": "markdown",
   "metadata": {},
   "source": [
    "#### Коварность mutable-аргументов по умолчанию (mutable default arguments)"
   ]
  },
  {
   "cell_type": "markdown",
   "metadata": {},
   "source": [
    "Известно, что Python может принимать аргументы по умолчанию. Но у изменяемых\n",
    "аргументов по умолчанию есть особенности."
   ]
  },
  {
   "cell_type": "code",
   "execution_count": null,
   "metadata": {},
   "outputs": [],
   "source": [
    "# Append all odd numbers less than n to x or use empty if not passed\n",
    "def f(n, x=[]):\n",
    "    for i in range(0, n, 2):\n",
    "        x.append(i)\n",
    "\n",
    "    return x\n",
    "\n",
    "print(f(6))\n",
    "print(f(4))\n",
    "print(f(4, []))"
   ]
  },
  {
   "cell_type": "markdown",
   "metadata": {},
   "source": [
    "Давайте попробуем вывести в интерпретатор, что из себя представляет функция."
   ]
  },
  {
   "cell_type": "code",
   "execution_count": null,
   "metadata": {},
   "outputs": [],
   "source": [
    "f"
   ]
  },
  {
   "cell_type": "markdown",
   "metadata": {},
   "source": [
    "Оказывается, что функция — это объект cо своими полями и методами. \n",
    "\n",
    "Среди полей есть переменная `__defaults__`, в котором и сокрыта вся магия такого\n",
    "поведения."
   ]
  },
  {
   "cell_type": "code",
   "execution_count": null,
   "metadata": {},
   "outputs": [],
   "source": [
    "f.__defaults__"
   ]
  },
  {
   "cell_type": "markdown",
   "metadata": {},
   "source": [
    "Оказывается, что такое поведение обусловлено тем, что аргумент по умолчанию\n",
    "представляет из себя поле класса, которое, очевидно, не обновляется с каждым\n",
    "вызовом функции."
   ]
  },
  {
   "cell_type": "markdown",
   "metadata": {},
   "source": [
    "#### Вложенные функции и каррирование (nested functions)"
   ]
  },
  {
   "cell_type": "markdown",
   "metadata": {},
   "source": [
    "Python также позволяет объявлять вложенные функции, что в совокупности с тем,\n",
    "что функция представляет собой объект, позволяет реализовывать т.н. каррирование.\n",
    "\n",
    "Говоря простым языком, это когда одна функция (например, двух аргументов) возвращает\n",
    "другую функцию (соответственно, одного аргумента)."
   ]
  },
  {
   "cell_type": "code",
   "execution_count": null,
   "metadata": {},
   "outputs": [],
   "source": [
    "def f(x):\n",
    "    def g(y):\n",
    "        return x + y\n",
    "    return g\n",
    "    \n",
    "add_5 = f(5)\n",
    "print(add_5(3))"
   ]
  },
  {
   "cell_type": "markdown",
   "metadata": {},
   "source": [
    "#### Декораторы (decorators)"
   ]
  },
  {
   "cell_type": "markdown",
   "metadata": {},
   "source": [
    "Декораторы — это функции, которые принимают на вход функцию и модифицирует или\n",
    "дополняет её поведение. "
   ]
  },
  {
   "cell_type": "code",
   "execution_count": null,
   "metadata": {},
   "outputs": [],
   "source": [
    "def add_one_more(call):\n",
    "    def wrapper(*args, **kwargs):\n",
    "        return call(*args, **kwargs) + 1\n",
    "    \n",
    "    return wrapper\n",
    "\n",
    "\n",
    "@add_one_more\n",
    "def h(x):\n",
    "    return x + 1\n",
    "\n",
    "h(3)"
   ]
  },
  {
   "cell_type": "markdown",
   "metadata": {},
   "source": [
    "Например, декоратор `add_one_more` добавляет дополнительную\n",
    "единицу к результату вызова функции, к которой она применяется."
   ]
  },
  {
   "cell_type": "markdown",
   "metadata": {},
   "source": [
    "А вот пример применения декоратора в промышленном программировании"
   ]
  },
  {
   "cell_type": "markdown",
   "metadata": {},
   "source": [
    "todo добавить пару комментариев в блоке"
   ]
  },
  {
   "cell_type": "code",
   "execution_count": null,
   "metadata": {},
   "outputs": [],
   "source": [
    "def verifiable_request(call):\n",
    "    async def wrapper(*args, **kwargs):\n",
    "        # Получаем результат функции-аргумента декоратора.\n",
    "        response = await call(*args, **kwargs)\n",
    "        # Если код не соответствует нормальному ответу, то особым образом\n",
    "        # обрабатываем это\n",
    "        if response.status_code != status.HTTP_200_OK:\n",
    "            logger.error(\n",
    "                f\"Got {response.status_code} after calling to {call.__name__} (args['uuid'])\"\n",
    "            )\n",
    "            raise HTTPException(\n",
    "                status.HTTP_500_INTERNAL_SERVER_ERROR,\n",
    "                detail=\"One of a services is unavailable at the moment.\",\n",
    "            )\n",
    "        # Иначе возвращаем тело ответа\n",
    "        return response.json()\n",
    "\n",
    "    return wrapper"
   ]
  },
  {
   "cell_type": "code",
   "execution_count": null,
   "metadata": {},
   "outputs": [],
   "source": [
    "@verifiable_request\n",
    "async def call_scraper(uuid: UUID, request: Request):\n",
    "...\n",
    "async with httpx.AsyncClient() as client:\n",
    "        return await client.post(url, json=body, timeout=30)"
   ]
  },
  {
   "cell_type": "markdown",
   "metadata": {},
   "source": [
    "Декоратор `verifiable_request` применяется к другим функциям, осуществляющим\n",
    "некоторый запрос по сети. Если запрос завершается успешно, он возвращает\n",
    "результат. \n",
    "\n",
    "Но если в результате вызова функции код ответа не 200, то декоратор бросает\n",
    "исключение с необходимым текстом."
   ]
  },
  {
   "cell_type": "markdown",
   "metadata": {},
   "source": [
    "#### Лямбда-функции и приложения (lambda-functions/lambda-expressions)"
   ]
  },
  {
   "cell_type": "markdown",
   "metadata": {},
   "source": [
    "Лямбда-функции — это неименованные функции. Чаще всего они применяются для\n",
    "описания однострочных преобразований, либо сложных, но использующихся лишь\n",
    "раз."
   ]
  },
  {
   "cell_type": "code",
   "execution_count": null,
   "metadata": {},
   "outputs": [],
   "source": [
    "three_x_plus_1 = lambda x: 3 * x + 1 \\\n",
    "    if x % 2 == 1 else x // 2\n",
    "\n",
    "three_x_plus_1"
   ]
  },
  {
   "cell_type": "markdown",
   "metadata": {},
   "source": [
    "Эта функция — тоже объект, поэтому его можно сохранить в переменную, как и\n",
    "любую другую, и затем получить её значение от некоторого аргумента."
   ]
  },
  {
   "cell_type": "code",
   "execution_count": null,
   "metadata": {},
   "outputs": [],
   "source": [
    "three_x_plus_1(3)"
   ]
  },
  {
   "cell_type": "markdown",
   "metadata": {},
   "source": [
    "Кстати, вышеописанная функция занимает большое место в математике. С ней связана т.н.\n",
    "гипотеза Коллатца, которая утверждает о том, что для любого числа есть конечное число итераций из применений этой функции к её предыдущему результату снова и снова, необходимое для того, чтобы свести любое число к циклу 1-2-4.\n",
    "\n",
    "Подробнее об этой гипотезе можно [есть очень хороший видеоролик](https://www.youtube.com/watch?v=QgzBDZwanWA&ab_channel=VertDider). \n",
    "\n",
    "Давайте опишем функцию `iterate_until`, которая будет итеративно получать\n",
    "последующие композиции некоторой функции до тех пор, пока не будет соблюдено\n",
    "некоторое условие для заданного числа."
   ]
  },
  {
   "cell_type": "code",
   "execution_count": null,
   "metadata": {},
   "outputs": [],
   "source": [
    "def iterate_until(f, condition):\n",
    "    def iterate(x):\n",
    "        iterations = 0\n",
    "        while True:\n",
    "            x = f(x)\n",
    "            if condition(x):\n",
    "                return iterations\n",
    "            iterations += 1\n",
    "            \n",
    "    return iterate"
   ]
  },
  {
   "cell_type": "markdown",
   "metadata": {},
   "source": [
    "Используя в качестве функции `three_x_plus_1` и условие `x == 1` получим\n",
    "процесс, который и описывается в гипотезе Коллатца."
   ]
  },
  {
   "cell_type": "code",
   "execution_count": null,
   "metadata": {},
   "outputs": [],
   "source": [
    "iterate_until(three_x_plus_1, lambda x: x == 1)(989345275647)"
   ]
  },
  {
   "cell_type": "markdown",
   "metadata": {},
   "source": [
    "Теперь мы можем посчитать, сколько итераций может понадобиться до сведения\n",
    "каждого числа до цикла 1-2-4. Давайте в качестве примера возьмем все числа\n",
    "до $10^7$."
   ]
  },
  {
   "cell_type": "code",
   "execution_count": null,
   "metadata": {},
   "outputs": [],
   "source": [
    "x = range(1, int(1e7))\n",
    "\n",
    "map_func = iterate_until(three_x_plus_1, lambda x: x == 1)\n",
    "\n",
    "iterations = map(map_func, x)\n",
    "iterations"
   ]
  },
  {
   "cell_type": "markdown",
   "metadata": {},
   "source": [
    "Лямбда-функции часто применяются вместе с встроенными функциями-генераторами. В\n",
    "частности, функция `map`.\n",
    "\n",
    "Применяя `map` массив чисел от $1$ до $10^7$ получаем массив, где вместо чисел —\n",
    "соответствующее им число итераций."
   ]
  },
  {
   "cell_type": "code",
   "execution_count": null,
   "metadata": {},
   "outputs": [],
   "source": [
    "iterations = list(iterations)"
   ]
  },
  {
   "cell_type": "markdown",
   "metadata": {},
   "source": [
    "### NumPy <a class=\"anchor\" id=\"numpy\"></a>"
   ]
  },
  {
   "cell_type": "markdown",
   "metadata": {},
   "source": [
    "Библиотека NumPy позволяет выполнять общие математические операции над\n",
    "массивами данных.\n",
    "\n",
    "Библиотека использует скомпилированные на С функции. "
   ]
  },
  {
   "cell_type": "markdown",
   "metadata": {},
   "source": [
    "Давайте посмотрим, чем нам может быть интересен NumPy."
   ]
  },
  {
   "cell_type": "code",
   "execution_count": null,
   "metadata": {},
   "outputs": [],
   "source": [
    "import numpy as np"
   ]
  },
  {
   "cell_type": "markdown",
   "metadata": {},
   "source": [
    "#### Статистика и другое"
   ]
  },
  {
   "cell_type": "markdown",
   "metadata": {},
   "source": [
    "С помощью NumPy мы легко можем получить стандартные величины, такие как\n",
    "среднее, максимальное, минимальное и другие статистические величины.\n",
    "\n",
    "Так, например, мы можем получить среднее число итераций, необходимых до сходимости\n",
    "до 1 чисел из задачи Колллатца."
   ]
  },
  {
   "cell_type": "code",
   "execution_count": null,
   "metadata": {},
   "outputs": [],
   "source": [
    "print(np.max(iterations))\n",
    "print(np.mean(iterations))"
   ]
  },
  {
   "cell_type": "markdown",
   "metadata": {},
   "source": [
    "#### Производительность"
   ]
  },
  {
   "cell_type": "markdown",
   "metadata": {},
   "source": [
    "NumPy является высокопроизводительным модулем, и это достаточно легко\n",
    "продемонстрировать наглядно.\n",
    "\n",
    "Давайте для примера перемножим два вектора размера $10^7$."
   ]
  },
  {
   "cell_type": "code",
   "execution_count": null,
   "metadata": {},
   "outputs": [],
   "source": [
    "import random\n",
    "\n",
    "a = [random.randint(1, 100) for _ in range(int(1e7))]\n",
    "b = [random.randint(1, 100) for _ in range(int(1e7))]"
   ]
  },
  {
   "cell_type": "markdown",
   "metadata": {},
   "source": [
    "##### Векторизация"
   ]
  },
  {
   "cell_type": "code",
   "execution_count": null,
   "metadata": {},
   "outputs": [],
   "source": [
    "%timeit -n 10 [a_i * b_i for a_i, b_i in zip(a, b)]"
   ]
  },
  {
   "cell_type": "code",
   "execution_count": null,
   "metadata": {},
   "outputs": [],
   "source": [
    "a_np = np.array(a, dtype=np.int16)\n",
    "b_np = np.array(b)"
   ]
  },
  {
   "cell_type": "code",
   "execution_count": null,
   "metadata": {},
   "outputs": [],
   "source": [
    "%timeit -n 10 a_np * b_np"
   ]
  },
  {
   "cell_type": "markdown",
   "metadata": {},
   "source": [
    "#### Экономия памяти"
   ]
  },
  {
   "cell_type": "code",
   "execution_count": null,
   "metadata": {},
   "outputs": [],
   "source": [
    "import sys\n",
    "\n",
    "sys.getsizeof(a)"
   ]
  },
  {
   "cell_type": "code",
   "execution_count": null,
   "metadata": {},
   "outputs": [],
   "source": [
    "sys.getsizeof(a_np)"
   ]
  },
  {
   "cell_type": "markdown",
   "metadata": {},
   "source": [
    "#### Удобство"
   ]
  },
  {
   "cell_type": "markdown",
   "metadata": {},
   "source": [
    "Скалярные, векторные и матричные операции (scalar, vector and matrix operations)"
   ]
  },
  {
   "cell_type": "code",
   "execution_count": null,
   "metadata": {},
   "outputs": [],
   "source": [
    "x = np.array([1, 2, 3])\n",
    "mat = np.array([[1, 2, 3], [4, 5, 6], [7, 8, 9]])\n",
    "\n",
    "print(x + 1)\n",
    "print(x * 3)\n",
    "print(x + x)"
   ]
  },
  {
   "cell_type": "markdown",
   "metadata": {},
   "source": [
    "Манипуляции с представлением данных"
   ]
  },
  {
   "cell_type": "code",
   "execution_count": null,
   "metadata": {},
   "outputs": [],
   "source": [
    "print(mat.reshape(3, 3))\n",
    "print(mat.reshape(-1, 1))"
   ]
  },
  {
   "cell_type": "markdown",
   "metadata": {},
   "source": [
    "Операции из линейной алгебры"
   ]
  },
  {
   "cell_type": "code",
   "execution_count": null,
   "metadata": {},
   "outputs": [],
   "source": [
    "# Transposing\n",
    "\n",
    "print(mat.T)\n",
    "print(np.linalg.inv(mat))"
   ]
  },
  {
   "cell_type": "markdown",
   "metadata": {},
   "source": [
    "#### Практическое задание #1 (min-max нормализация)"
   ]
  },
  {
   "cell_type": "markdown",
   "metadata": {},
   "source": [
    "Дан список чисел. \n",
    "\n",
    "Необходимо:\n",
    "1. преобразовать его к массиву NumPy\n",
    "2. вычислить максимальное и минимальное значение массива\n",
    "3. изменить каждое значение $x_i$ массива по формуле \n",
    "\n",
    "\\begin{equation}\n",
    "x_i = \\frac{x_i - min}{max - min}\n",
    "\\end{equation}\n",
    "\n",
    "для этого необходимо использовать `np.vectorize`, аргументом которой объявить\n",
    "лямбда-функцию, описывающую формулу (1)."
   ]
  },
  {
   "cell_type": "markdown",
   "metadata": {},
   "source": [
    "#### Практическое задание #2 (Гипотеза NumPy-Коллатца)\n",
    "\n",
    "Ранее была описана гипотеза Коллатца. Выполните аналогичные ранее действия, используя `np.array` и операции NumPy вместо обычных.\n",
    "\n",
    "Оцените вклад NumPy в производительность такого решения. Попытайтесь объяснить себе, почему был получен именно такой результат и поделитесь ответом с кем-то из организаторов Клуба, нам ведь интересно :)"
   ]
  },
  {
   "cell_type": "markdown",
   "metadata": {},
   "source": [
    "#### Практическое задание #3 (факультатив)\n",
    "\n",
    "Mojo — это новый язык программирования, который создан специально для ML и призван решить одну из главных проблем в Python, а именно его плохую производительность.\n",
    "\n",
    "[Здесь](https://gist.github.com/eugeneyan/1d2ea70fed81662271f784034cc30b73) приведен сравнение производительности для нагруженных матричными и векторными операциями задач. \n",
    "\n",
    "Конечно, он не совсем справедлив, поскольку в среднем выигрыш будет не настолько велик, но тем не менее связанные с машинным обучением операции потенциально могут работать в сотни и тысячи раз быстрее.\n",
    "\n",
    "\n",
    "В качестве факультативного задания можно ознакомиться с основами этого языка в [этом видео](https://www.youtube.com/watch?v=5Sm9IVMet9c&t=6771s&ab_channel=freeCodeCamp.org)."
   ]
  },
  {
   "cell_type": "markdown",
   "metadata": {},
   "source": []
  }
 ],
 "metadata": {
  "kernelspec": {
   "display_name": "Python 3",
   "language": "python",
   "name": "python3"
  },
  "language_info": {
   "codemirror_mode": {
    "name": "ipython",
    "version": 3
   },
   "file_extension": ".py",
   "mimetype": "text/x-python",
   "name": "python",
   "nbconvert_exporter": "python",
   "pygments_lexer": "ipython3",
   "version": "3.11.5"
  }
 },
 "nbformat": 4,
 "nbformat_minor": 2
}
