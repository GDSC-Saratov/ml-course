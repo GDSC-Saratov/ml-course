{
 "cells": [
  {
   "cell_type": "markdown",
   "metadata": {},
   "source": [
    "### 1. Бэггинг"
   ]
  },
  {
   "cell_type": "markdown",
   "metadata": {},
   "source": [
    "Ранее мы говорили про разные алгоритмы классификации, а также научились\n",
    "правильно валидироваться и оценивать качество модели. Но что делать, если вы уже\n",
    "нашли лучшую модель и повысить точность модели больше не можете? В таком случае\n",
    "нужно применить более продвинутые техники машинного обучения, которые можно\n",
    "объединить словом «ансамбли».\n",
    "\n",
    "Ансамбль — это некая совокупность, части которой образуют единое целое. Из\n",
    "повседневной жизни вы знаете музыкальные ансамбли, где объединены несколько\n",
    "музыкальных инструментов, архитектурные ансамбли с разными зданиями и т.д.\n",
    "\n"
   ]
  },
  {
   "cell_type": "markdown",
   "metadata": {},
   "source": [
    "#### Ансамбли"
   ]
  },
  {
   "cell_type": "markdown",
   "metadata": {},
   "source": [
    "Хорошим примером ансамблей считается теорема Кондорсе «о жюри присяжных» (1784).\n",
    "Если каждый член жюри присяжных имеет независимое мнение, и если вероятность\n",
    "правильного решения члена жюри больше 0.5, то тогда вероятность правильного\n",
    "решения присяжных в целом возрастает с увеличением количества членов жюри и\n",
    "стремится к единице. Если же вероятность быть правым у каждого из членов жюри\n",
    "меньше 0.5, то вероятность принятия правильного решения присяжными в целом\n",
    "монотонно уменьшается и стремится к нулю с увеличением количества присяжных."
   ]
  },
  {
   "cell_type": "markdown",
   "metadata": {},
   "source": [
    "Давайте рассмотрим ещё один пример ансамблей — \"Мудрость толпы\". Фрэнсис Гальтон\n",
    "в 1906 году посетил рынок, где проводилась некая лотерея для крестьян. Их\n",
    "собралось около 800 человек, и они пытались угадать вес быка, который стоял\n",
    "перед ними. Бык весил 1198 фунтов. Ни один крестьянин не угадал точный вес быка,\n",
    "но если посчитать среднее от их предсказаний, то получим 1197 фунтов. Эту идею\n",
    "уменьшения ошибки применили и в машинном обучении."
   ]
  },
  {
   "cell_type": "markdown",
   "metadata": {},
   "source": [
    "#### Бутстрэп"
   ]
  },
  {
   "cell_type": "markdown",
   "metadata": {},
   "source": [
    "Bagging (от Bootstrap aggregation) — это один из первых и самых простых видов\n",
    "ансамблей. Он был придуман Ле́о Бре́йманом в 1994 году. Бэггинг основан на\n",
    "статистическом методе бутстрэпа, который позволяет оценивать многие статистики\n",
    "сложных распределений.\n",
    "\n",
    "\n",
    "Метод бутстрэпа заключается в следующем. Пусть имеется выборка $\\large X$\n",
    "размера $\\large N$. Равномерно возьмем из выборки $\\large N$ объектов с\n",
    "возвращением. Это означает, что мы будем $\\large N$ раз выбирать произвольный\n",
    "объект выборки (считаем, что каждый объект «достается» с одинаковой вероятностью\n",
    "$\\large \\frac{1}{N}$), причем каждый раз мы выбираем из всех исходных $\\large N$\n",
    "объектов. Можно представить себе мешок, из которого достают шарики: выбранный на\n",
    "каком-то шаге шарик возвращается обратно в мешок, и следующий выбор опять\n",
    "делается равновероятно из того же числа шариков. Отметим, что из-за возвращения\n",
    "среди них окажутся повторы. Обозначим новую выборку через $\\large X_1$. Повторяя\n",
    "процедуру $\\large M$ раз, сгенерируем $\\large M$ подвыборок $\\large X_1, \\dots,\n",
    "X_M$. Теперь мы имеем достаточно большое число выборок и можем оценивать\n",
    "различные статистики исходного распределения.\n",
    "\n"
   ]
  },
  {
   "cell_type": "markdown",
   "metadata": {},
   "source": [
    "![bootstrap](bootstrap.jpg)"
   ]
  },
  {
   "cell_type": "markdown",
   "metadata": {},
   "source": [
    "#### Бэггинг\n",
    "\n",
    "Теперь вы имеете представление о бутстрэпе, и мы можем перейти непосредственно к\n",
    "бэггингу. Пусть имеется обучающая выборка $\\large X$. С помощью бутстрэпа\n",
    "сгенерируем из неё выборки $\\large X_1, \\dots, X_M$. Теперь на каждой выборке\n",
    "обучим свой классификатор $\\large a_i(x)$. Итоговый классификатор будет\n",
    "усреднять ответы всех этих алгоритмов (в случае классификации это соответствует\n",
    "голосованию): $\\large a(x) = \\frac{1}{M}\\sum_{i = 1}^M a_i(x)$. Эту схему можно\n",
    "представить картинкой ниже."
   ]
  },
  {
   "cell_type": "markdown",
   "metadata": {},
   "source": [
    "![Bagging](bagging.png)"
   ]
  },
  {
   "cell_type": "markdown",
   "metadata": {},
   "source": [
    "Рассмотрим задачу регрессии с базовыми алгоритмами $\\large b_1(x), \\dots ,\n",
    "b_n(x)$. Предположим, что существует истинная функция ответа для всех объектов\n",
    "$\\large y(x)$, а также задано распределение на объектах $\\large p(x)$. В этом\n",
    "случае мы можем записать ошибку каждой функции регрессии\n",
    "\n",
    "\n",
    "$$ \\large \\varepsilon_i(x) = b_i(x) - y(x), i = 1, \\dots, n$$\n",
    "\n",
    "\n",
    "и записать матожидание среднеквадратичной ошибки\n",
    "\n",
    "\n",
    "$ \\mathbb{E}_x\\left[\\left(b_i(x) - y(x)\\right)^{2}\\right] =\n",
    "\\mathbb{E}_x\\left[\\varepsilon_i^{2}(x)\\right]. $\n",
    "\n",
    "\n",
    "Средняя ошибка построенных функций регрессии имеет вид\n",
    "\n",
    "$ \\large \\mathbb{E}_1 = \\frac{1}{n}\\mathbb{E}_x \\sum_{i=1}^n\n",
    "\\varepsilon_i^{2}(x) $\n",
    "\n",
    "\n",
    "\n",
    "Предположим, что ошибки несмещены и некоррелированы:\n",
    "\n",
    "\n",
    "$ \\large \\begin{array}{rcl} \\mathbb{E}_x\\varepsilon_i(x) &=& 0, \\\\\n",
    "\\mathbb{E}_x\\varepsilon_i(x)\\varepsilon_j(x) &=& 0, i \\neq j. \\end{array} $\n",
    "\n",
    "\n",
    "Построим теперь новую функцию регрессии, которая будет усреднять ответы\n",
    "построенных нами функций:\n",
    "\n",
    "\n",
    "$ \\large a(x) = \\frac{1}{n}\\sum_{i=1}^{n}b_i(x) $\n",
    "\n",
    "\n",
    "Найдем ее среднеквадратичную ошибку:\n",
    "\n",
    "\n",
    "$ \\large \\begin{array}{rcl}\\mathbb{E}_n &=&\n",
    "\\mathbb{E}_x\\Big(\\frac{1}{n}\\sum_{i=1}^{n}b_i(x)-y(x)\\Big)^2 \\\\ &=&\n",
    "\\mathbb{E}_x\\Big(\\frac{1}{n}\\sum_{i=1}^{n}\\varepsilon_i\\Big)^2 \\\\ &=&\n",
    "\\frac{1}{n^2}\\mathbb{E}_x\\Big(\\sum_{i=1}^{n}\\varepsilon_i^2(x) + \\sum_{i \\neq\n",
    "j}\\varepsilon_i(x)\\varepsilon_j(x)\\Big) \\\\ &=&\n",
    "\\frac{1}{n}\\mathbb{E}_1\\end{array}$\n",
    "\n",
    "\n",
    "Таким образом, усреднение ответов позволило уменьшить средний квадрат ошибки в n\n",
    "раз!"
   ]
  },
  {
   "cell_type": "markdown",
   "metadata": {},
   "source": [
    "Бэггинг позволяет снизить дисперсию (variance) обучаемого классификатора,\n",
    "уменьшая величину, на сколько ошибка будет отличаться, если обучать модель на\n",
    "разных наборах данных, или другими словами, предотвращает переобучение.\n",
    "Эффективность бэггинга достигается благодаря тому, что базовые алгоритмы,\n",
    "обученные по различным подвыборкам, получаются достаточно различными, и их\n",
    "ошибки взаимно компенсируются при голосовании, а также за счёт того, что\n",
    "объекты-выбросы могут не попадать в некоторые обучающие подвыборки.\n",
    "\n"
   ]
  },
  {
   "cell_type": "markdown",
   "metadata": {},
   "source": [
    "В библиотеке scikit-learn есть реализации BaggingRegressor и BaggingClassifier,\n",
    "которые позволяют использовать большинство других алгоритмов \"внутри\"."
   ]
  },
  {
   "cell_type": "markdown",
   "metadata": {},
   "source": [
    "#### Out-of-bag error"
   ]
  },
  {
   "cell_type": "markdown",
   "metadata": {},
   "source": [
    "Забегая вперед, отметим, что при использовании случайных лесов нет необходимости\n",
    "в кросс-валидации или в отдельном тестовом наборе, чтобы получить несмещенную\n",
    "оценку ошибки набора тестов. Посмотрим, как получается \"внутренняя\" оценка\n",
    "модели во время ее обучения.\n",
    "\n",
    "\n",
    "Каждое дерево строится с использованием разных образцов бутстрэпа из исходных\n",
    "данных. Примерно 37% примеров остаются вне выборки бутстрэпа и не используются\n",
    "при построении k-го дерева.\n",
    "\n",
    "\n",
    "Это можно легко доказать: пусть в выборке $\\large \\ell$ объектов. На каждом шаге\n",
    "все объекты попадают в подвыборку с возвращением равновероятно, т.е отдельный\n",
    "объект — с вероятностью $\\large\\frac{1}{\\ell}.$ Вероятность того, что объект НЕ\n",
    "попадет в подвыборку (т.е. его не взяли $\\large \\ell$ раз): $\\large (1 -\n",
    "\\frac{1}{\\ell})^\\ell$. При $\\large \\ell \\rightarrow +\\infty$ получаем один из\n",
    "\"замечательных\" пределов $\\large \\frac{1}{e}$. Тогда вероятность попадания\n",
    "конкретного объекта в подвыборку $\\large \\approx 1 - \\frac{1}{e} \\approx 63\\%$."
   ]
  },
  {
   "cell_type": "markdown",
   "metadata": {},
   "source": [
    "Получается, что каждый базовый алгоритм обучается на ~63% исходных объектов.\n",
    "Значит, на оставшихся ~37% его можно сразу проверять. Out-of-Bag оценка — это\n",
    "усредненная оценка базовых алгоритмов на тех ~37% данных, на которых они не\n",
    "обучались."
   ]
  },
  {
   "cell_type": "markdown",
   "metadata": {},
   "source": [
    "### 2. Случайный лес"
   ]
  },
  {
   "cell_type": "markdown",
   "metadata": {},
   "source": [
    "Лео Брейман нашел применение бутстрэпу не только в статистике, но и в машинном\n",
    "обучении. Он вместе с Адель Катлер усовершенстовал алгоритм случайного леса,\n",
    "предложенный Хо, добавив к первоначальному варианту построение некоррелируемых\n",
    "деревьев на основе CART, в сочетании с методом случайных подпространств и\n",
    "бэггинга.\n",
    "\n",
    "\n",
    "Решающие деревья являются хорошим семейством базовых классификаторов для\n",
    "бэггинга, поскольку они достаточно сложны и могут достигать нулевой ошибки на\n",
    "любой выборке. Метод случайных подпространств позволяет снизить\n",
    "коррелированность между деревьями и избежать переобучения. Базовые алгоритмы\n",
    "обучаются на различных подмножествах признакового описания, которые также\n",
    "выделяются случайным образом."
   ]
  },
  {
   "cell_type": "markdown",
   "metadata": {},
   "source": [
    "Ансамбль моделей, использующих метод случайного подпространства, можно\n",
    "построить, используя следующий алгоритм:\n",
    "\n",
    "1. Пусть количество объектов для обучения равно $\\large N$, а количество\n",
    "признаков $\\large D$.\n",
    "\n",
    "2. Выберите $\\large L$ как число отдельных моделей в ансамбле.\n",
    "\n",
    "3. Для каждой отдельной модели $\\large l$ выберите $\\large dl (dl < D) $ как\n",
    "число признаков для $\\large l$. Обычно для всех моделей используется только одно\n",
    "значение $\\large dl$.\n",
    "\n",
    "4. Для каждой отдельной модели $\\large l$ создайте обучающую выборку, выбрав\n",
    "$\\large dl$ признаков из $\\large D$, и обучите модель.\n",
    "\n",
    "5. Теперь, чтобы применить модель ансамбля к новому объекту, объедините\n",
    "результаты отдельных $\\large L$ моделей мажоритарным голосованием или путем\n",
    "комбинирования апостериорных вероятностей.\n"
   ]
  },
  {
   "cell_type": "markdown",
   "metadata": {},
   "source": [
    "Алгоритм построения случайного леса, состоящего из $\\large N$ деревьев, выглядит\n",
    "следующим образом:\n",
    "\n",
    "Для каждого $\\large n = 1, \\dots, N$:\n",
    "* Сгенерировать выборку $\\large X_n$ с помощью бутстрэпа;\n",
    "* Построить решающее дерево $\\large b_n$ по выборке $\\large X_n$:\n",
    "    1. По заданному критерию мы выбираем лучший признак, делаем разбиение в\n",
    "дереве по нему и так до исчерпания выборки.\n",
    "    2. Дерево строится, пока в каждом листе не более $\\large n_\\text{min}$\n",
    "объектов или пока не достигнем определенной высоты дерева.\n",
    "    3. при каждом разбиении сначала выбирается $\\large m$ случайных признаков из\n",
    "$\\large n$ исходных, и оптимальное разделение выборки ищется только среди них.\n"
   ]
  },
  {
   "cell_type": "markdown",
   "metadata": {},
   "source": [
    "Итоговый классификатор\n",
    "\n",
    "$$\\large a(x) = \\frac{1}{N}\\sum_{i = 1}^N b_i(x)$$\n",
    "\n",
    "Простыми словами — для задачи кассификации мы выбираем решение голосованием по\n",
    "большинству, а в задаче регрессии — средним."
   ]
  },
  {
   "cell_type": "markdown",
   "metadata": {},
   "source": [
    "Рекомендуется в задачах классификации брать $\\large m = \\sqrt{n}$, а в задачах\n",
    "регрессии — $\\large m = \\frac{n}{3}$, где $\\large n$ — число признаков. Также\n",
    "рекомендуется в задачах классификации строить каждое дерево до тех пор, пока в\n",
    "каждом листе не окажется по одному объекту, а в задачах регрессии — пока в\n",
    "каждом листе не окажется по пять объектов.\n",
    "\n",
    "\n",
    "Таким образом, случайный лес — это бэггинг над решающими деревьями, при обучении\n",
    "которых для каждого разбиения признаки выбираются из некоторого случайного\n",
    "подмножества признаков."
   ]
  },
  {
   "cell_type": "markdown",
   "metadata": {},
   "source": [
    "### Перейдем к практике"
   ]
  },
  {
   "cell_type": "code",
   "execution_count": 4,
   "metadata": {},
   "outputs": [],
   "source": [
    "import pandas as pd\n",
    "import matplotlib.pyplot as plt\n",
    "import seaborn as sns\n",
    "from sklearn.ensemble import RandomForestRegressor, RandomForestClassifier, BaggingRegressor, BaggingClassifier\n",
    "from sklearn.tree import DecisionTreeRegressor, DecisionTreeClassifier\n",
    "from sklearn.model_selection import train_test_split\n",
    "from sklearn.metrics import accuracy_score"
   ]
  },
  {
   "cell_type": "code",
   "execution_count": 5,
   "metadata": {},
   "outputs": [],
   "source": [
    "plt.style.use('ggplot')\n",
    "plt.rcParams['figure.figsize'] = 10, 6"
   ]
  },
  {
   "cell_type": "code",
   "execution_count": 6,
   "metadata": {},
   "outputs": [
    {
     "name": "stdout",
     "output_type": "stream",
     "text": [
      "Populating the interactive namespace from numpy and matplotlib\n"
     ]
    },
    {
     "data": {
      "image/png": "[encoded data removed]",
      "text/plain": [
       "<Figure size 720x432 with 1 Axes>"
      ]
     },
     "metadata": {
      "needs_background": "light"
     },
     "output_type": "display_data"
    },
    {
     "data": {
      "image/png": "[encoded data removed]",
      "text/plain": [
       "<Figure size 720x432 with 1 Axes>"
      ]
     },
     "metadata": {
      "needs_background": "light"
     },
     "output_type": "display_data"
    },
    {
     "data": {
      "image/png": "[encoded data removed]",
      "text/plain": [
       "<Figure size 720x432 with 1 Axes>"
      ]
     },
     "metadata": {
      "needs_background": "light"
     },
     "output_type": "display_data"
    }
   ],
   "source": [
    "from __future__ import division, print_function\n",
    "import warnings\n",
    "warnings.filterwarnings('ignore')\n",
    "%pylab inline\n",
    "\n",
    "\n",
    "n_train = 150        \n",
    "n_test = 1000       \n",
    "noise = 0.1\n",
    "\n",
    "def f(x):\n",
    "    x = x.ravel()\n",
    "    return np.exp(-x ** 2) + 1.5 * np.exp(-(x - 2) ** 2)\n",
    "\n",
    "def generate(n_samples, noise):\n",
    "    X = np.random.rand(n_samples) * 10 - 5\n",
    "    X = np.sort(X).ravel()\n",
    "    y = np.exp(-X ** 2) + 1.5 * np.exp(-(X - 2) ** 2)\\\n",
    "        + np.random.normal(0.0, noise, n_samples)\n",
    "    X = X.reshape((n_samples, 1))\n",
    "\n",
    "    return X, y\n",
    "\n",
    "X_train, y_train = generate(n_samples=n_train, noise=noise)\n",
    "X_test, y_test = generate(n_samples=n_test, noise=noise)\n",
    "\n",
    "dtree = DecisionTreeRegressor().fit(X_train, y_train)\n",
    "d_predict = dtree.predict(X_test)\n",
    "\n",
    "plt.figure(figsize=(10, 6))\n",
    "plt.plot(X_test, f(X_test), \"b\")\n",
    "plt.scatter(X_train, y_train, c=\"b\", s=20)\n",
    "plt.plot(X_test, d_predict, \"g\", lw=2)\n",
    "plt.xlim([-5, 5])\n",
    "plt.title(\"Решающее дерево, MSE = %.2f\" \n",
    "          % np.sum((y_test - d_predict) ** 2))\n",
    "\n",
    "bdt = BaggingRegressor(DecisionTreeRegressor(max_depth=100), n_estimators=10).fit(X_train, y_train)\n",
    "bdt_predict = bdt.predict(X_test)\n",
    "\n",
    "plt.figure(figsize=(10, 6))\n",
    "plt.plot(X_test, f(X_test), \"b\")\n",
    "plt.scatter(X_train, y_train, c=\"b\", s=20)\n",
    "plt.plot(X_test, bdt_predict, \"y\", lw=2)\n",
    "plt.xlim([-5, 5])\n",
    "plt.title(\"Бэггинг решающих деревьев, MSE = %.2f\" % np.sum((y_test - bdt_predict) ** 2));\n",
    "\n",
    "rf = RandomForestRegressor(n_estimators=10, max_depth=100).fit(X_train, y_train)\n",
    "rf_predict = rf.predict(X_test)\n",
    "\n",
    "plt.figure(figsize=(10, 6))\n",
    "plt.plot(X_test, f(X_test), \"b\")\n",
    "plt.scatter(X_train, y_train, c=\"b\", s=20)\n",
    "plt.plot(X_test, rf_predict, \"r\", lw=2)\n",
    "plt.xlim([-5, 5])\n",
    "plt.title(\"Случайный лес, MSE = %.2f\" % np.sum((y_test - rf_predict) ** 2));"
   ]
  },
  {
   "cell_type": "markdown",
   "metadata": {},
   "source": [
    "Основное различие случайного леса и бэггинга на деревьях решений заключается в\n",
    "том, что в случайном лесе выбирается случайное подмножество признаков, и лучший\n",
    "признак для разделения узла определяется из подвыборки признаков, в отличие от\n",
    "бэггинга, где все функции рассматриваются для разделения в узле."
   ]
  },
  {
   "cell_type": "code",
   "execution_count": 8,
   "metadata": {},
   "outputs": [],
   "source": [
    "df = pd.read_csv(\"prepared_data.csv\")\n",
    "df['Sex'] = pd.factorize(df['Sex'])[0]\n",
    "df['Embarked'] = pd.factorize(df['Embarked'])[0]\n",
    "df['Name_Prefix'] = pd.factorize(df['Name_Prefix'])[0]\n",
    "df['TicketPre'] = pd.factorize(df['TicketPre'])[0]\n",
    "df['TicketNum_Groups'] = pd.factorize(df['TicketNum_Groups'])[0]\n",
    "df['Lastname'] = pd.factorize(df['Lastname'])[0]"
   ]
  },
  {
   "cell_type": "code",
   "execution_count": 9,
   "metadata": {},
   "outputs": [
    {
     "data": {
      "text/html": [
       "<div>\n",
       "<style scoped>\n",
       "    .dataframe tbody tr th:only-of-type {\n",
       "        vertical-align: middle;\n",
       "    }\n",
       "\n",
       "    .dataframe tbody tr th {\n",
       "        vertical-align: top;\n",
       "    }\n",
       "\n",
       "    .dataframe thead th {\n",
       "        text-align: right;\n",
       "    }\n",
       "</style>\n",
       "<table border=\"1\" class=\"dataframe\">\n",
       "  <thead>\n",
       "    <tr style=\"text-align: right;\">\n",
       "      <th></th>\n",
       "      <th>Pclass</th>\n",
       "      <th>Sex</th>\n",
       "      <th>Age</th>\n",
       "      <th>SibSp</th>\n",
       "      <th>Parch</th>\n",
       "      <th>Fare</th>\n",
       "      <th>Embarked</th>\n",
       "      <th>Name_Prefix</th>\n",
       "      <th>Lastname</th>\n",
       "      <th>TicketPre</th>\n",
       "      <th>TicketNum_Groups</th>\n",
       "      <th>Relatives</th>\n",
       "    </tr>\n",
       "  </thead>\n",
       "  <tbody>\n",
       "    <tr>\n",
       "      <th>0</th>\n",
       "      <td>3</td>\n",
       "      <td>0</td>\n",
       "      <td>22.0</td>\n",
       "      <td>1</td>\n",
       "      <td>0</td>\n",
       "      <td>7.2500</td>\n",
       "      <td>0</td>\n",
       "      <td>0</td>\n",
       "      <td>0</td>\n",
       "      <td>0</td>\n",
       "      <td>0</td>\n",
       "      <td>1</td>\n",
       "    </tr>\n",
       "    <tr>\n",
       "      <th>1</th>\n",
       "      <td>1</td>\n",
       "      <td>1</td>\n",
       "      <td>38.0</td>\n",
       "      <td>1</td>\n",
       "      <td>0</td>\n",
       "      <td>71.2833</td>\n",
       "      <td>1</td>\n",
       "      <td>1</td>\n",
       "      <td>1</td>\n",
       "      <td>1</td>\n",
       "      <td>1</td>\n",
       "      <td>1</td>\n",
       "    </tr>\n",
       "    <tr>\n",
       "      <th>2</th>\n",
       "      <td>3</td>\n",
       "      <td>1</td>\n",
       "      <td>26.0</td>\n",
       "      <td>0</td>\n",
       "      <td>0</td>\n",
       "      <td>7.9250</td>\n",
       "      <td>0</td>\n",
       "      <td>2</td>\n",
       "      <td>2</td>\n",
       "      <td>2</td>\n",
       "      <td>2</td>\n",
       "      <td>0</td>\n",
       "    </tr>\n",
       "    <tr>\n",
       "      <th>3</th>\n",
       "      <td>1</td>\n",
       "      <td>1</td>\n",
       "      <td>35.0</td>\n",
       "      <td>1</td>\n",
       "      <td>0</td>\n",
       "      <td>53.1000</td>\n",
       "      <td>0</td>\n",
       "      <td>1</td>\n",
       "      <td>3</td>\n",
       "      <td>3</td>\n",
       "      <td>3</td>\n",
       "      <td>1</td>\n",
       "    </tr>\n",
       "    <tr>\n",
       "      <th>4</th>\n",
       "      <td>3</td>\n",
       "      <td>0</td>\n",
       "      <td>35.0</td>\n",
       "      <td>0</td>\n",
       "      <td>0</td>\n",
       "      <td>8.0500</td>\n",
       "      <td>0</td>\n",
       "      <td>0</td>\n",
       "      <td>4</td>\n",
       "      <td>3</td>\n",
       "      <td>4</td>\n",
       "      <td>0</td>\n",
       "    </tr>\n",
       "    <tr>\n",
       "      <th>...</th>\n",
       "      <td>...</td>\n",
       "      <td>...</td>\n",
       "      <td>...</td>\n",
       "      <td>...</td>\n",
       "      <td>...</td>\n",
       "      <td>...</td>\n",
       "      <td>...</td>\n",
       "      <td>...</td>\n",
       "      <td>...</td>\n",
       "      <td>...</td>\n",
       "      <td>...</td>\n",
       "      <td>...</td>\n",
       "    </tr>\n",
       "    <tr>\n",
       "      <th>886</th>\n",
       "      <td>2</td>\n",
       "      <td>0</td>\n",
       "      <td>27.0</td>\n",
       "      <td>0</td>\n",
       "      <td>0</td>\n",
       "      <td>13.0000</td>\n",
       "      <td>0</td>\n",
       "      <td>5</td>\n",
       "      <td>664</td>\n",
       "      <td>3</td>\n",
       "      <td>440</td>\n",
       "      <td>0</td>\n",
       "    </tr>\n",
       "    <tr>\n",
       "      <th>887</th>\n",
       "      <td>1</td>\n",
       "      <td>1</td>\n",
       "      <td>19.0</td>\n",
       "      <td>0</td>\n",
       "      <td>0</td>\n",
       "      <td>30.0000</td>\n",
       "      <td>0</td>\n",
       "      <td>2</td>\n",
       "      <td>233</td>\n",
       "      <td>3</td>\n",
       "      <td>370</td>\n",
       "      <td>0</td>\n",
       "    </tr>\n",
       "    <tr>\n",
       "      <th>888</th>\n",
       "      <td>3</td>\n",
       "      <td>1</td>\n",
       "      <td>24.0</td>\n",
       "      <td>1</td>\n",
       "      <td>2</td>\n",
       "      <td>23.4500</td>\n",
       "      <td>0</td>\n",
       "      <td>2</td>\n",
       "      <td>604</td>\n",
       "      <td>11</td>\n",
       "      <td>417</td>\n",
       "      <td>3</td>\n",
       "    </tr>\n",
       "    <tr>\n",
       "      <th>889</th>\n",
       "      <td>1</td>\n",
       "      <td>0</td>\n",
       "      <td>26.0</td>\n",
       "      <td>0</td>\n",
       "      <td>0</td>\n",
       "      <td>30.0000</td>\n",
       "      <td>1</td>\n",
       "      <td>0</td>\n",
       "      <td>665</td>\n",
       "      <td>3</td>\n",
       "      <td>441</td>\n",
       "      <td>0</td>\n",
       "    </tr>\n",
       "    <tr>\n",
       "      <th>890</th>\n",
       "      <td>3</td>\n",
       "      <td>0</td>\n",
       "      <td>32.0</td>\n",
       "      <td>0</td>\n",
       "      <td>0</td>\n",
       "      <td>7.7500</td>\n",
       "      <td>2</td>\n",
       "      <td>0</td>\n",
       "      <td>666</td>\n",
       "      <td>3</td>\n",
       "      <td>42</td>\n",
       "      <td>0</td>\n",
       "    </tr>\n",
       "  </tbody>\n",
       "</table>\n",
       "<p>891 rows × 12 columns</p>\n",
       "</div>"
      ],
      "text/plain": [
       "     Pclass  Sex   Age  SibSp  Parch     Fare  Embarked  Name_Prefix  \\\n",
       "0         3    0  22.0      1      0   7.2500         0            0   \n",
       "1         1    1  38.0      1      0  71.2833         1            1   \n",
       "2         3    1  26.0      0      0   7.9250         0            2   \n",
       "3         1    1  35.0      1      0  53.1000         0            1   \n",
       "4         3    0  35.0      0      0   8.0500         0            0   \n",
       "..      ...  ...   ...    ...    ...      ...       ...          ...   \n",
       "886       2    0  27.0      0      0  13.0000         0            5   \n",
       "887       1    1  19.0      0      0  30.0000         0            2   \n",
       "888       3    1  24.0      1      2  23.4500         0            2   \n",
       "889       1    0  26.0      0      0  30.0000         1            0   \n",
       "890       3    0  32.0      0      0   7.7500         2            0   \n",
       "\n",
       "     Lastname  TicketPre  TicketNum_Groups  Relatives  \n",
       "0           0          0                 0          1  \n",
       "1           1          1                 1          1  \n",
       "2           2          2                 2          0  \n",
       "3           3          3                 3          1  \n",
       "4           4          3                 4          0  \n",
       "..        ...        ...               ...        ...  \n",
       "886       664          3               440          0  \n",
       "887       233          3               370          0  \n",
       "888       604         11               417          3  \n",
       "889       665          3               441          0  \n",
       "890       666          3                42          0  \n",
       "\n",
       "[891 rows x 12 columns]"
      ]
     },
     "execution_count": 9,
     "metadata": {},
     "output_type": "execute_result"
    }
   ],
   "source": [
    "df.dropna(inplace=True)\n",
    "ans = df['Survived']\n",
    "df.drop(['Survived'], axis=1, inplace=True)\n",
    "df"
   ]
  },
  {
   "cell_type": "code",
   "execution_count": 10,
   "metadata": {},
   "outputs": [],
   "source": [
    "X_train, X_test, y_train, y_test = train_test_split(df, ans, test_size=0.33)"
   ]
  },
  {
   "cell_type": "code",
   "execution_count": 11,
   "metadata": {},
   "outputs": [],
   "source": [
    "dtree = DecisionTreeClassifier().fit(X_train, y_train)\n",
    "d_predict = dtree.predict(X_test)\n",
    "\n",
    "bdt = BaggingClassifier(DecisionTreeClassifier(max_depth=100), n_estimators=10).fit(X_train, y_train)\n",
    "bdt_predict = bdt.predict(X_test)\n",
    "\n",
    "rf = RandomForestClassifier(n_estimators=10, max_depth=100).fit(X_train, y_train)\n",
    "rf_predict = rf.predict(X_test)"
   ]
  },
  {
   "cell_type": "code",
   "execution_count": 12,
   "metadata": {},
   "outputs": [
    {
     "name": "stdout",
     "output_type": "stream",
     "text": [
      "DecisionTreeRegressor:  0.7728813559322034\n",
      "BaggingRegressor and DecisionTreeRegressor:  0.7932203389830509\n",
      "RandomForestRegressor:  0.8203389830508474\n"
     ]
    }
   ],
   "source": [
    "print('DecisionTreeRegressor: ', accuracy_score(y_test, d_predict))\n",
    "print('BaggingRegressor and DecisionTreeRegressor: ', accuracy_score(y_test, bdt_predict))\n",
    "print('RandomForestRegressor: ', accuracy_score(y_test, rf_predict))"
   ]
  },
  {
   "cell_type": "code",
   "execution_count": 13,
   "metadata": {},
   "outputs": [
    {
     "name": "stdout",
     "output_type": "stream",
     "text": [
      "Fitting 5 folds for each of 392 candidates, totalling 1960 fits\n"
     ]
    },
    {
     "data": {
      "text/plain": [
       "GridSearchCV(cv=5, estimator=DecisionTreeClassifier(), n_jobs=-1,\n",
       "             param_grid={'max_depth': range(1, 50),\n",
       "                         'max_features': range(4, 12)},\n",
       "             verbose=True)"
      ]
     },
     "execution_count": 13,
     "metadata": {},
     "output_type": "execute_result"
    }
   ],
   "source": [
    "from sklearn.model_selection import GridSearchCV, cross_val_score\n",
    "\n",
    "tree_params = {'max_depth': range(1, 50),\n",
    "               'max_features': range(4, df.shape[1])}\n",
    "\n",
    "dtree_grid = GridSearchCV(dtree, tree_params,\n",
    "                         cv=5, n_jobs=-1,\n",
    "                         verbose=True)\n",
    "\n",
    "dtree_grid.fit(X_train, y_train)"
   ]
  },
  {
   "cell_type": "code",
   "execution_count": 14,
   "metadata": {},
   "outputs": [
    {
     "name": "stdout",
     "output_type": "stream",
     "text": [
      "DecisionTreeRegressor with GridSearch:  0.8\n"
     ]
    }
   ],
   "source": [
    "dgrid_predict = dtree_grid.predict(X_test)\n",
    "print('DecisionTreeRegressor with GridSearch: ', accuracy_score(y_test, dgrid_predict))"
   ]
  },
  {
   "cell_type": "markdown",
   "metadata": {},
   "source": [
    "#### Параметры"
   ]
  },
  {
   "cell_type": "markdown",
   "metadata": {},
   "source": [
    "Метод случайного леса реализован в библиотеке машинного обучения scikit-learn\n",
    "двумя классами RandomForestClassifier и RandomForestRegressor."
   ]
  },
  {
   "cell_type": "markdown",
   "metadata": {},
   "source": [
    "Есть несколько параметров, на которые в первую очередь стоит обратить внимание\n",
    "при построении модели:\n",
    "\n",
    "* n_estimators — число деревьев в \"лесу\"\n",
    "* criterion — критерий для разбиения выборки в вершине\n",
    "* max_features — число признаков, по которым ищется разбиение\n",
    "* min_samples_leaf — минимальное число объектов в листе\n",
    "* max_depth — максимальная глубина дерева"
   ]
  },
  {
   "cell_type": "markdown",
   "metadata": {},
   "source": [
    "#### Сверхслучайные деревья"
   ]
  },
  {
   "cell_type": "markdown",
   "metadata": {},
   "source": [
    "В сверхслучайных деревьях (Extremely Randomized Trees) больше случайности в том,\n",
    "как вычисляются разделения в узлах. Как и в случайных лесах, используется\n",
    "случайное подмножество возможных признаков, но вместо поиска наиболее\n",
    "оптимальных порогов, пороговые значения произвольно выбираются для каждого\n",
    "возможного признака, и наилучший из этих случайно генерируемых порогов\n",
    "выбирается как лучшее правило для разделения узла. Это обычно позволяет немного\n",
    "уменьшить дисперсию модели за счет несколько большего увеличения смещения."
   ]
  },
  {
   "cell_type": "markdown",
   "metadata": {},
   "source": [
    "В библиотеке scikit-learn есть реализация ExtraTreesClassifier и\n",
    "ExtraTreesRegressor. Данный метод стоит использовать, когда вы сильно\n",
    "переобучаетесь на случайном лесе или градиентном бустинге."
   ]
  },
  {
   "cell_type": "markdown",
   "metadata": {},
   "source": [
    "#### Плюсы случайного леса\n",
    "\n",
    "1. Хорошо работает из коробки (хорошо работает без настройки гиперпараметры, с минимальной предобработкой данных, не нужно использовать кросс валидацию)\n",
    "2. Можно распаралелить обучение деревьев, в том числе на разных компьютерах.\n",
    "3. Как ни странно алгоритм устойчив к переобучению."
   ]
  },
  {
   "cell_type": "markdown",
   "metadata": {},
   "source": [
    "## Градиентный бустинг"
   ]
  },
  {
   "cell_type": "markdown",
   "metadata": {},
   "source": [
    "В основе алгоритма также лежит идея ансамблей, только более приближенная к зоопарку моделей, который используют в продакшене. Ближайшую аналогию можно провести с физикой и соединениями приборов. Идеей параллельного соединения является алгоритм случайного леса, который был рассмотрен выше. Идею последовательного соединению использует самый популярный на сегодняшний день алгоритм градиентного бустинга.\n",
    "\n",
    "Углубимся немного в историю: ранее самым популярным алгоритмом считался метод опорных векторов SVM. Но потом был придуман алгоритм градиентного бустинга. Первоначальной реализацией бустинга пользовались мало, однако спустя некоторе время начала придумывать его различные модификации, благодаря которым он вытеснил SVM. Сегодня у всех больших компаний есть свои реализации бустинга.\n",
    "\n",
    "Идея самого алгоритма проста и схожа с идеей градиентного спуска - обучение на ошибках, только в отличии от спуска модель учится не на ошибках ее самой, а на ошибках предыдущей модели.\n",
    "\n",
    "Логика, что стоит за градиентым бустингом, проста, ее можно понять интуитивно, без математического формализма. Предполагается, что читатель знаком с простой линейной регрессией.\n",
    "Первое предположение линейной регресии, что сумма отклонений = 0, т.е. отклонения должны быть случайно распределены в окрестности нуля.\n",
    "\n",
    "Теперь давайте думать о отклонениях, как об ошибках, сделанных нашей моделью. Хотя в моделях основанных на деревьях не делается такого предположения, если мы будем размышлять об этом предположении логически (не статистически), мы можем понять, что увидив принцип распределения отклонений, сможем использовать данный паттерн для модели.\n",
    "\n",
    "Итак, интуиция за алгоритмом градиентного бустинга — итеративно применять паттерны отклонений и улучшать предсказания. Как только мы достигли момента, когда отклонения не имеют никакого паттерна, мы прекращаем достраивать нашу модель (иначе это может привести к переобучению). Алгоритмически, мы минимизируем нашу функцию потерь.\n",
    "\n",
    "В итоге:\n",
    "\n",
    "1. Сначала строим простые модели и анализируем ошибки;\n",
    "2. Определяем точки, которые не вписываются в простую модель;\n",
    "3. Добавляем модели, которые обрабатывают сложные случаи, которые были выявлены на начальной модели;\n",
    "4. Собираем все построенные модели, определяя вес каждого предсказателя."
   ]
  },
  {
   "cell_type": "markdown",
   "metadata": {},
   "source": [
    "![Визуализация обучения \"слабых\" моделей](2.png)"
   ]
  },
  {
   "cell_type": "markdown",
   "metadata": {},
   "source": [
    "![Результат обучения бустинга](3.png)"
   ]
  },
  {
   "cell_type": "code",
   "execution_count": 3,
   "metadata": {},
   "outputs": [],
   "source": [
    "import xgboost as xgb"
   ]
  },
  {
   "cell_type": "code",
   "execution_count": 24,
   "metadata": {},
   "outputs": [
    {
     "name": "stdout",
     "output_type": "stream",
     "text": [
      "Fitting 5 folds for each of 384 candidates, totalling 1920 fits\n"
     ]
    },
    {
     "data": {
      "text/plain": [
       "0.8271186440677966"
      ]
     },
     "execution_count": 24,
     "metadata": {},
     "output_type": "execute_result"
    }
   ],
   "source": [
    "xgb_cl = xgb.XGBClassifier()\n",
    "tree_params = {'max_depth': range(1, 5),\n",
    "               'learning_rate': [0.3, 0.1, 0.01, 0.001, 0.0001, 0.00001],\n",
    "               'min_child_weight': range(1, 5),\n",
    "               'max_delta_step': range(1, 5)}\n",
    "\n",
    "dtree_grid = GridSearchCV(xgb_cl, tree_params,\n",
    "                         cv=5, n_jobs=-1,\n",
    "                         verbose=True)\n",
    "dtree_grid.fit(X_train, y_train)\n",
    "#xgb_cl = xgb.XGBClassifier(learning_rate=0.0001, max_depth=10)\n",
    "#xgb_cl.fit(X_train, y_train)\n",
    "preds = dtree_grid.predict(X_test)\n",
    "accuracy_score(y_test, preds)"
   ]
  },
  {
   "cell_type": "code",
   "execution_count": 17,
   "metadata": {},
   "outputs": [
    {
     "data": {
      "text/plain": [
       "0.823728813559322"
      ]
     },
     "execution_count": 17,
     "metadata": {},
     "output_type": "execute_result"
    }
   ],
   "source": [
    "from sklearn.ensemble import GradientBoostingClassifier\n",
    "gbc = GradientBoostingClassifier()\n",
    "gbc.fit(X_train, y_train)\n",
    "preds = gbc.predict(X_test)\n",
    "accuracy_score(y_test, preds)"
   ]
  }
 ],
 "metadata": {
  "interpreter": {
   "hash": "bb399e1a834aa17b35df3c7b12c8f19baf7d93a1973604970edfee6e51c1813f"
  },
  "kernelspec": {
   "display_name": "Python 3.9.12 64-bit (windows store)",
   "language": "python",
   "name": "python3"
  },
  "language_info": {
   "codemirror_mode": {
    "name": "ipython",
    "version": 3
   },
   "file_extension": ".py",
   "mimetype": "text/x-python",
   "name": "python",
   "nbconvert_exporter": "python",
   "pygments_lexer": "ipython3",
   "version": "3.9.5"
  },
  "orig_nbformat": 4
 },
 "nbformat": 4,
 "nbformat_minor": 2
}
