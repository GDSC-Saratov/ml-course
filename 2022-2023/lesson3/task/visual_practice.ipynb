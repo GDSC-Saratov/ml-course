{
 "cells": [
  {
   "cell_type": "markdown",
   "source": [
    "## Visual Data Analysis Homework\n",
    "## Практическое домашнее задание по визуализации данных с последующим их анализом\n",
    "\n",
    "(Оригинальный ресурс был основан на открытом курсе машинного обучения от mail.ru, в частности, был использован блок материалов по визуализации)\n",
    "\n",
    "Екатерина Демидова - Data Scientist @ Segmento, у неё есть открытые репозитории с интересными ресурсами по машинному обучениею, можете поискать =)"
   ],
   "metadata": {}
  },
  {
   "cell_type": "markdown",
   "source": [
    "Импорт используемых библиотек (в целом можешь использовать и numpy, но задачи вполне выполнимы и без него)"
   ],
   "metadata": {}
  },
  {
   "cell_type": "code",
   "execution_count": 1,
   "source": [
    "import pandas as pd\n",
    "\n",
    "%matplotlib inline\n",
    "import matplotlib.pyplot as plt\n",
    "import seaborn as sns"
   ],
   "outputs": [],
   "metadata": {}
  },
  {
   "cell_type": "markdown",
   "source": [
    "# Загрузка и знакомство с данными\n",
    "\n",
    "Для работы тебе понадобятся данные учебного конкурса mail.ru на kaggle «Прогноз популярности статьи на Хабре». Для них необходимо осуществить предобработку (да да, pandas ты не должен забывать никогда)."
   ],
   "metadata": {}
  },
  {
   "cell_type": "markdown",
   "source": [
    "## 1. Прочитай датасет. Сколько строк и столбцов в нем?\n"
   ],
   "metadata": {}
  },
  {
   "cell_type": "code",
   "execution_count": 2,
   "source": [],
   "outputs": [],
   "metadata": {}
  },
  {
   "cell_type": "code",
   "execution_count": 3,
   "source": [
    "df.shape"
   ],
   "outputs": [
    {
     "output_type": "execute_result",
     "data": {
      "text/plain": [
       "(134137, 17)"
      ]
     },
     "metadata": {},
     "execution_count": 3
    }
   ],
   "metadata": {}
  },
  {
   "cell_type": "code",
   "execution_count": null,
   "source": [
    "df.head(3).T"
   ],
   "outputs": [],
   "metadata": {}
  },
  {
   "cell_type": "markdown",
   "source": [
    "## 2. В первую очередь необходимо избавиться от тех данных, названия которых заканчиваются на `_lognorm` (они нужны для соревнования на Kaggle, но это не наша история). Дропни их, пожалуйста."
   ],
   "metadata": {}
  },
  {
   "cell_type": "code",
   "execution_count": 5,
   "source": [],
   "outputs": [],
   "metadata": {}
  },
  {
   "cell_type": "markdown",
   "source": [
    "Можешь повертеть данные, чтобы как-то их проанализировать и понять, что тут происходит вообще"
   ],
   "metadata": {}
  },
  {
   "cell_type": "code",
   "execution_count": null,
   "source": [
    "df.describe().T"
   ],
   "outputs": [],
   "metadata": {}
  },
  {
   "cell_type": "code",
   "execution_count": null,
   "source": [
    "df.describe(include=[\"object\", \"bool\"]).T  # бинарные и категориальные переменные"
   ],
   "outputs": [],
   "metadata": {}
  },
  {
   "cell_type": "markdown",
   "source": [
    "### По желанию можешь применить настройки ниже, либо указать какие-то свои"
   ],
   "metadata": {}
  },
  {
   "cell_type": "code",
   "execution_count": 8,
   "source": [
    "# настройка внешнего вида графиков в seaborn\n",
    "sns.set_style(\"dark\")\n",
    "sns.set_palette(\"RdBu\")\n",
    "sns.set_context(\n",
    "    \"notebook\", font_scale=1.5, rc={\"figure.figsize\": (15, 5), \"axes.titlesize\": 18}\n",
    ")"
   ],
   "outputs": [],
   "metadata": {}
  },
  {
   "cell_type": "markdown",
   "source": [
    "## 3. Столбец **`published`** (время публикации) содержит строки. Чтобы мы могли работать с этими данными как с датой/временем публикации, приведи их к типу `datetime`."
   ],
   "metadata": {}
  },
  {
   "cell_type": "code",
   "execution_count": null,
   "source": [],
   "outputs": [],
   "metadata": {}
  },
  {
   "cell_type": "markdown",
   "source": [
    "## 4. Создай несколько столбцов на основе данных о времени публикации (укажи для каждой публикации год, месяц, день недели и час):"
   ],
   "metadata": {}
  },
  {
   "cell_type": "code",
   "execution_count": 10,
   "source": [],
   "outputs": [],
   "metadata": {}
  },
  {
   "cell_type": "markdown",
   "source": [
    "# Наконец-то, визуализация!\n",
    "\n",
    "В каждом пункте предлагается построить картинку и с ее помощью ответить на вопрос. Конечно, можно попытаться ответить на все вопросы только с Pandas, без картинок, но чел... Потренируйся строить (красивые) визуализации. И не забудь про правила построения красивого графика, который был в прошлом домашнем задании!   "
   ],
   "metadata": {}
  },
  {
   "cell_type": "markdown",
   "source": [
    "## 1\\. В каком месяце (и какого года) было больше всего публикаций?"
   ],
   "metadata": {}
  },
  {
   "cell_type": "code",
   "execution_count": null,
   "source": [],
   "outputs": [],
   "metadata": {}
  },
  {
   "cell_type": "markdown",
   "source": [
    "## 2\\. А теперь проанализируй публикации в месяце из предыдущего вопроса (имеется ввиду конкретный месяц конкретного года)\n",
    "\n",
    "Подсказ о4ка: построй график зависимости числа публикаций от дня; попробуй использовать параметр `hue`;"
   ],
   "metadata": {}
  },
  {
   "cell_type": "markdown",
   "source": [
    "### 2.1 Есть ли один или несколько дней, которые сильно выделяются из общей картины? Если да, то какие это дни в месяце? Может быть, это какие-то конкретные дни недели? "
   ],
   "metadata": {}
  },
  {
   "cell_type": "code",
   "execution_count": null,
   "source": [],
   "outputs": [],
   "metadata": {}
  },
  {
   "cell_type": "markdown",
   "source": [
    "### 2.2 Всегда ли на хабре больше статей, чем на гиктаймсе? Если нет, то в какие дни месяца на гиктаймсе больше статей?"
   ],
   "metadata": {}
  },
  {
   "cell_type": "code",
   "execution_count": null,
   "source": [],
   "outputs": [],
   "metadata": {}
  },
  {
   "cell_type": "markdown",
   "source": [
    "### 2.3 В какой день недели на гиктаймс и на хабрахабр публикуют примерно одинаковое число статей?"
   ],
   "metadata": {}
  },
  {
   "cell_type": "code",
   "execution_count": null,
   "source": [],
   "outputs": [],
   "metadata": {}
  },
  {
   "cell_type": "markdown",
   "source": [
    "## 3\\. Когда лучше всего публиковать статью?"
   ],
   "metadata": {}
  },
  {
   "cell_type": "markdown",
   "source": [
    "### 3.1. Опубликованные в какой час суток (от 0 до 24) статьи имеют больше всего информации? (на geektimes.ru и на habrahabr.ru) \n",
    "P.S. Имеется ввиду просто количество подсчитанного материала в зависимости от часа."
   ],
   "metadata": {}
  },
  {
   "cell_type": "code",
   "execution_count": null,
   "source": [],
   "outputs": [],
   "metadata": {}
  },
  {
   "cell_type": "markdown",
   "source": [
    "### 3.2. Опубликованные в какой час (от 0 до 24) суток статьи имеют больше всего комментариев? (на geektimes.ru и на habrahabr.ru)"
   ],
   "metadata": {}
  },
  {
   "cell_type": "code",
   "execution_count": null,
   "source": [],
   "outputs": [],
   "metadata": {}
  },
  {
   "cell_type": "markdown",
   "source": [
    "### 3.3. Опубликованные в какой час суток статьи набирают больше всего просмотров (в среднем)?"
   ],
   "metadata": {}
  },
  {
   "cell_type": "code",
   "execution_count": null,
   "source": [],
   "outputs": [],
   "metadata": {}
  },
  {
   "cell_type": "markdown",
   "source": [
    "### 3.4. Опубликованная в какой час суток статья на гиктаймсе набрала максимальное число комментариев?"
   ],
   "metadata": {}
  },
  {
   "cell_type": "code",
   "execution_count": null,
   "source": [],
   "outputs": [],
   "metadata": {}
  },
  {
   "cell_type": "markdown",
   "source": [
    "### 3.5. Какие статьи на хабре комментируют чаще: дневные или вечерние?"
   ],
   "metadata": {}
  },
  {
   "cell_type": "code",
   "execution_count": null,
   "source": [],
   "outputs": [],
   "metadata": {}
  },
  {
   "cell_type": "markdown",
   "source": [
    "## 4\\. Кого из топ-20 авторов чаще всего минусуют?\n",
    "\n",
    "Варианты ответа:\n",
    "* @Mordatyj\n",
    "* @Mithgol\n",
    "* @alizar\n",
    "* @ilya42"
   ],
   "metadata": {}
  },
  {
   "cell_type": "code",
   "execution_count": null,
   "source": [],
   "outputs": [],
   "metadata": {}
  },
  {
   "cell_type": "markdown",
   "source": [
    "## 5\\. Сравните субботы и понедельники\n",
    "\n",
    "Правда ли, что по субботам авторы пишут в основном днём, а по понедельникам — в основном вечером?"
   ],
   "metadata": {}
  },
  {
   "cell_type": "code",
   "execution_count": null,
   "source": [],
   "outputs": [],
   "metadata": {}
  },
  {
   "cell_type": "markdown",
   "source": [
    "# Ну и по традиции - вставь ниже картинку или гифку, которая полностью описывает тебя в процессе выполнения этого задания:"
   ],
   "metadata": {}
  },
  {
   "cell_type": "markdown",
   "source": [],
   "metadata": {}
  }
 ],
 "metadata": {
  "kernelspec": {
   "name": "python3",
   "display_name": "Python 3.9.7 64-bit"
  },
  "language_info": {
   "codemirror_mode": {
    "name": "ipython",
    "version": 3
   },
   "file_extension": ".py",
   "mimetype": "text/x-python",
   "name": "python",
   "nbconvert_exporter": "python",
   "pygments_lexer": "ipython3",
   "version": "3.9.7"
  },
  "interpreter": {
   "hash": "e7370f93d1d0cde622a1f8e1c04877d8463912d04d973331ad4851f04de6915a"
  }
 },
 "nbformat": 4,
 "nbformat_minor": 2
}